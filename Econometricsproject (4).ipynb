{
  "cells": [
    {
      "cell_type": "markdown",
      "source": [
        "**Part 1 - Cross - Section Data**"
      ],
      "metadata": {
        "id": "pZB6PawmM19F"
      }
    },
    {
      "cell_type": "markdown",
      "source": [
        "Intialization"
      ],
      "metadata": {
        "id": "ggD6g9p8MgV4"
      }
    },
    {
      "cell_type": "code",
      "execution_count": null,
      "metadata": {
        "colab": {
          "base_uri": "https://localhost:8080/"
        },
        "id": "dp4SHEsZx_B5",
        "outputId": "1983b94a-b4ee-4ae6-a42f-e58553b8537f"
      },
      "outputs": [
        {
          "output_type": "stream",
          "name": "stdout",
          "text": [
            "   price  crime   nox  rooms  dist  radial  proptax  stratio  lowstat  \\\n",
            "0  24000  0.006  5.38   6.57  4.09       1     29.6     15.3     4.98   \n",
            "1  21599  0.027  4.69   6.42  4.97       2     24.2     17.8     9.14   \n",
            "2  34700  0.027  4.69   7.18  4.97       2     24.2     17.8     4.03   \n",
            "3  33400  0.032  4.58   7.00  6.06       3     22.2     18.7     2.94   \n",
            "4  36199  0.069  4.58   7.15  6.06       3     22.2     18.7     5.33   \n",
            "\n",
            "      lprice      lnox  lproptax  \n",
            "0  10.085810  1.682688  5.690360  \n",
            "1   9.980402  1.545433  5.488938  \n",
            "2  10.454500  1.545433  5.488938  \n",
            "3  10.416310  1.521699  5.402678  \n",
            "4  10.496790  1.521699  5.402678  \n"
          ]
        },
        {
          "output_type": "stream",
          "name": "stderr",
          "text": [
            "<ipython-input-773-9477ceff05ef>:14: FutureWarning: The 'delim_whitespace' keyword in pd.read_csv is deprecated and will be removed in a future version. Use ``sep='\\s+'`` instead\n",
            "  df = pd.read_csv(\n"
          ]
        }
      ],
      "source": [
        "import numpy as np\n",
        "import pandas as pd\n",
        "import matplotlib.pyplot as plt\n",
        "import statsmodels.api as sm\n",
        "from scipy.stats import f\n",
        "\n",
        "column_names = [\n",
        "    'price', 'crime', 'nox', 'rooms', 'dist', 'radial',\n",
        "    'proptax', 'stratio', 'lowstat', 'lprice', 'lnox', 'lproptax'\n",
        "]\n",
        "\n",
        "\n",
        "\n",
        "df = pd.read_csv(\n",
        "    'https://raw.githubusercontent.com/IbaDemesy/Econometrics-project/main/HPRICE2.raw',\n",
        "    header=None,\n",
        "    names=column_names,\n",
        "    delim_whitespace=True\n",
        ")\n",
        "\n",
        "\n",
        "print(df.head())\n"
      ]
    },
    {
      "cell_type": "markdown",
      "source": [
        "Note that, in the following theoretical questions, we will refer to the dataset as the matrix $X$.\n"
      ],
      "metadata": {
        "id": "jl6pCWuGAUxc"
      }
    },
    {
      "cell_type": "markdown",
      "source": [
        "**Question 1** :\n",
        "\n",
        "The fundamental hypothesis is that the error term is of zero conditional mean, i.e.\n",
        "$$\n",
        "E(u|X)  = 0\n",
        "$$ and so $$ E(u) = 0$$\n",
        " $X$ is uncorrelated with $u$.\n",
        "\n",
        "Where $u$, as said above, represents the error term in the linear model (you can see it in the next question).\n",
        "\n",
        "In other words, what you observe is independent from what you don't observe."
      ],
      "metadata": {
        "id": "cnJZghuCAI8-"
      }
    },
    {
      "cell_type": "markdown",
      "source": [
        "**Question 2**\n",
        "\n",
        "Consider the linear model:\n",
        "\n",
        "$$\n",
        " y_i = \\beta_0 + x_{i1}\\beta_1 + x_{i2}\\beta_2 + \\ldots + x_{iK}\\beta_K + u_i\n",
        "$$\n",
        "\n",
        "Defining $ y = (y_1, \\ldots, y_n)^\\prime $, $ x_k = (x_{1k}, \\ldots, x_{nk})^\\prime $, $u = (u_1, \\ldots, u_n)^\\prime $, we can write the model in matrix form:\n",
        "\n",
        "$$ y = X\\beta + u $$\n",
        "\n",
        "with $ \\beta = (\\beta_1, \\ldots, \\beta_K)^\\prime $ and $ X = [x_1, x_2, \\ldots, x_K] $.\n",
        "\n",
        "OLS estimates are obtained by solving the following minimization problem:\n",
        "\n",
        "$$ \\min_\\beta \\sum_{i=1}^{n} u_i^\\prime u_i = u^\\prime u = (y - X\\beta)^\\prime (y - X\\beta) $$\n",
        "\n",
        "So :\n",
        "\n",
        "$$ -2X^\\prime (y - X\\beta) = 0 $$\n",
        "\n",
        "\n",
        "Re-arranging terms:\n",
        "\n",
        "$$ (X^\\prime X)\\beta = X^\\prime y $$\n",
        "\n",
        "If there is no multi-collinearity, then the matrix $ (X^\\prime X) $ can be inverted :\n",
        "\n",
        "$$ \\hat{\\beta} = (X^\\prime X)^{-1}X^\\prime y$$\n",
        "\n",
        "This estimator is unbiased if the fundamental assumption (in matrix form) $ E(X^\\prime u) = 0 $ is satisfied:\n",
        "\n",
        "$$ E (\\hat{\\beta}) = E((X^\\prime X)^{-1}X^\\prime(X\\beta + u)) = \\beta + E(X^\\prime u) = \\beta $$\n"
      ],
      "metadata": {
        "id": "N5JJ34VJA32a"
      }
    },
    {
      "cell_type": "markdown",
      "source": [
        "**Question 3**\n",
        "\n",
        "Sample selection bias occurs when the sample studied is not representative of the entire population, leading to flawed conclusions. The famous example that we saw in the course is the survivorship bias during World War II.\n",
        "\n",
        "Analysts in the Royal Air Force (RAF) examined returning aircraft to identify which parts were most frequently hit by enemy fire. They observed that areas like the wings and tail had the most bullet holes and initially suggested reinforcing these parts.\n",
        "\n",
        "However, statisticians pointed out that this analysis ignored the aircraft that did not return. Planes that were shot down likely had critical damage in areas like the engines or cockpit, which were underrepresented in the sample. Therefore, the recommendation was to reinforce these vital areas, even if they showed fewer hits on surviving aircraft.\n",
        "\n",
        "This example highlights how focusing only on \"survivors\" (aircraft that return) biases the analysis by excluding failures (aircraft that are lost). To avoid sample selection bias, it's essential to account for the entire population, including missing or unseen data."
      ],
      "metadata": {
        "id": "XRp4gPNaHrcl"
      }
    },
    {
      "cell_type": "markdown",
      "source": [
        "**Question 4**\n",
        "\n",
        "We have an omitted variable bias when we omit a variable that is correlated with the dependent variable.\n",
        "\n",
        "In other words, when we leave out a viariable that matters for the dependent variable $y$.\n",
        "For example, in the course we saw the omitted variable bias : we wanted to study the effect of fertilisers on crop yields. If a key factor, such as soil quality, is excluded from an analysis, it leads to distorted results.\n",
        "\n",
        "Indeed, if more fertilizer is applied to high-quality soil plots, the analysis will incorrectly attribute the increase in yields entirely to the fertilizer, while part of the effect is due to soil quality. This bias arises because soil quality impacts both yields and the amount of fertilizer used.\n",
        "\n",
        "To address this, plots should be randomly selected, and critical variables like soil quality should be included in the statistical model to accurately measure the true effect of the fertilizer.\n"
      ],
      "metadata": {
        "id": "pd5pCf5nBv0k"
      }
    },
    {
      "cell_type": "markdown",
      "source": [
        "**Question 5**\n",
        "\n",
        "The multicollinearity problem arises when two or more columns of the matrix $ X $ are linearly dependent (or almost).\n",
        "\n",
        "If so, the determinant of the matrix $ (X^\\prime X) $ is zero or almost zero.\n",
        "\n",
        "$$\n",
        "det(X^\\prime X) = 0\n",
        "$$\n",
        "\n",
        "\n",
        "In this case, the matrix $ (X^\\prime X) $ is not invertible.\n",
        "The OLS estimator cannot be computed.\n",
        "\n",
        "A solution to this problem is to drop one of the linearly dependent columns or to add some observations to the dataset.\n",
        "\n",
        "The dataset of the project does not have a multicollinearity problem because the determinant of the matrix $ (X^\\prime X) $ is not equal to zero.\n",
        "\n",
        "You can see that by computing the code below."
      ],
      "metadata": {
        "id": "88KRJQ9lJAPi"
      }
    },
    {
      "cell_type": "code",
      "source": [
        "\n",
        "# columns_name = [\"price\", \"crime\", \"nox\", \"rooms\", \"dist\", \"radial\", \"proptax\", \"stratio\", \"lowstat\", \"lprice\", \"lnox\", \"lproptax\"]\n",
        "X = df[column_names]\n",
        "\n",
        "print(\"Determinant of the matrix (X'X): \", np.linalg.det(X.T.dot(X)))"
      ],
      "metadata": {
        "colab": {
          "base_uri": "https://localhost:8080/"
        },
        "id": "lKfxk-bWJSzU",
        "outputId": "b03ef9b4-a6cb-4447-aadb-03a61bafd095"
      },
      "execution_count": null,
      "outputs": [
        {
          "output_type": "stream",
          "name": "stdout",
          "text": [
            "Determinant of the matrix (X'X):  4.0362932604189976e+42\n"
          ]
        }
      ]
    },
    {
      "cell_type": "markdown",
      "source": [
        "**Question 6**"
      ],
      "metadata": {
        "id": "EQtemTU-LWTr"
      }
    },
    {
      "cell_type": "code",
      "execution_count": null,
      "metadata": {
        "id": "t1b50eoDx_B9"
      },
      "outputs": [],
      "source": [
        "# Calculate the percentiles for 'nox'\n",
        "nox_percentiles = df['nox'].quantile([0.25, 0.75])\n",
        "\n",
        "# Create the categories\n",
        "conditions = [\n",
        "    (df['nox'] <= nox_percentiles[0.25]),  # Low : <= 25%\n",
        "    (df['nox'] > nox_percentiles[0.25]) & (df['nox'] < nox_percentiles[0.75]),  # High : between 26% and 74%\n",
        "    (df['nox'] >= nox_percentiles[0.75])  # High: >= 75%\n",
        "]\n",
        "\n",
        "\n",
        "\n",
        "\n"
      ]
    },
    {
      "cell_type": "markdown",
      "source": [
        "**Question 7**"
      ],
      "metadata": {
        "id": "Jcymu6H8LzVB"
      }
    },
    {
      "cell_type": "code",
      "execution_count": null,
      "metadata": {
        "colab": {
          "base_uri": "https://localhost:8080/"
        },
        "id": "TmZ7bzIIx_B-",
        "outputId": "b0b18071-e6e2-4bdf-9fd5-0da3da21123a"
      },
      "outputs": [
        {
          "output_type": "stream",
          "name": "stdout",
          "text": [
            "Moyenne du prix par catégorie de 'nox':\n",
            "Low: 26977.09375\n",
            "Medium: 23127.117647058825\n",
            "High: 17382.157142857144\n"
          ]
        }
      ],
      "source": [
        "#Q7\n",
        "\n",
        "#Get the prices for each category\n",
        "low = df.loc[conditions[0], 'price']\n",
        "medium = df.loc[conditions[1], 'price']\n",
        "high = df.loc[conditions[2], 'price']\n",
        "\n",
        "mean_low = low.mean()\n",
        "mean_medium = medium.mean()\n",
        "mean_high = high.mean()\n",
        "\n",
        "\n",
        "print(\"Moyenne du prix par catégorie de 'nox':\")\n",
        "print(f\"Low: {mean_low}\")\n",
        "print(f\"Medium: {mean_medium}\")\n",
        "print(f\"High: {mean_high}\")"
      ]
    },
    {
      "cell_type": "markdown",
      "source": [
        "To comment on the results, we can say that, on average, the higher the nox (concentration of nitrogen oxides), the lower the price of the home.\n",
        "\n",
        "This is to be expected, because the higher the pollution, the lower the quality of life."
      ],
      "metadata": {
        "id": "EtOI1cxgMOG8"
      }
    },
    {
      "cell_type": "markdown",
      "source": [
        "**Question 8**"
      ],
      "metadata": {
        "id": "0oMlMgWiMEGI"
      }
    },
    {
      "cell_type": "code",
      "execution_count": null,
      "metadata": {
        "colab": {
          "base_uri": "https://localhost:8080/",
          "height": 449
        },
        "id": "qCAFEaH4x_B_",
        "outputId": "7390cc32-c491-4bff-a4e4-3fca3dd0b6c8"
      },
      "outputs": [
        {
          "output_type": "display_data",
          "data": {
            "text/plain": [
              "<Figure size 640x480 with 1 Axes>"
            ],
            "image/png": "[encoded data removed]"
          },
          "metadata": {}
        }
      ],
      "source": [
        "\n",
        "plt.figure(1)\n",
        "plt.ylabel('price')\n",
        "plt.xlabel('nox')\n",
        "plt.scatter(df['nox'],df['price'])\n",
        "plt.show()\n"
      ]
    },
    {
      "cell_type": "markdown",
      "source": [
        "Ceteris paribus is a concept used in statistical analysis where the effect of a single variable is examined while keeping all other variables constant.\n",
        "\n",
        "A scatter plot alone cannot demonstrate a ceteris paribus effect, because, a scatter plot shows the relationship between two variables, such as 'price' and 'nox', but it doesn't account for the influence of other variables.\n",
        "\n",
        "To assess the ceteris paribus effect, we have to use regression analysis, where we can control for the impact of other variables and isolate the specific effect of 'nox' on 'price' while holding other factors constant.\n",
        "\n",
        "So, what we can do is to ensure that the relationship between the variable of interest and the dependent variable appears linear in the scatterplot.\n",
        "\n",
        "If the relationship is non-linear, the ceteris paribus assumption might be violated, like in our case."
      ],
      "metadata": {
        "id": "PAe4wEorOxRD"
      }
    },
    {
      "cell_type": "markdown",
      "source": [
        "**Question 9**"
      ],
      "metadata": {
        "id": "AQKR9lC_Qpr0"
      }
    },
    {
      "cell_type": "code",
      "execution_count": null,
      "metadata": {
        "colab": {
          "base_uri": "https://localhost:8080/",
          "height": 938
        },
        "id": "o4wM390gx_CA",
        "outputId": "2d83d1f2-fb24-4fd5-f57d-dbcd1ffbde9f"
      },
      "outputs": [
        {
          "output_type": "stream",
          "name": "stdout",
          "text": [
            "                            OLS Regression Results                            \n",
            "==============================================================================\n",
            "Dep. Variable:                  price   R-squared:                       0.575\n",
            "Model:                            OLS   Adj. R-squared:                  0.572\n",
            "Method:                 Least Squares   F-statistic:                     169.6\n",
            "Date:                Sun, 08 Dec 2024   Prob (F-statistic):           1.06e-91\n",
            "Time:                        22:37:26   Log-Likelihood:                -5119.6\n",
            "No. Observations:                 506   AIC:                         1.025e+04\n",
            "Df Residuals:                     501   BIC:                         1.027e+04\n",
            "Df Model:                           4                                         \n",
            "Covariance Type:            nonrobust                                         \n",
            "==============================================================================\n",
            "                 coef    std err          t      P>|t|      [0.025      0.975]\n",
            "------------------------------------------------------------------------------\n",
            "const      -1.868e+04   3215.205     -5.811      0.000    -2.5e+04   -1.24e+04\n",
            "crime       -136.5438     38.529     -3.544      0.000    -212.241     -60.846\n",
            "nox         -660.4672    314.634     -2.099      0.036   -1278.632     -42.303\n",
            "rooms       7797.9286    404.345     19.285      0.000    7003.507    8592.350\n",
            "proptax      -89.4144     23.966     -3.731      0.000    -136.500     -42.329\n",
            "==============================================================================\n",
            "Omnibus:                      264.796   Durbin-Watson:                   0.752\n",
            "Prob(Omnibus):                  0.000   Jarque-Bera (JB):             2348.397\n",
            "Skew:                           2.111   Prob(JB):                         0.00\n",
            "Kurtosis:                      12.673   Cond. No.                         546.\n",
            "==============================================================================\n",
            "\n",
            "Notes:\n",
            "[1] Standard Errors assume that the covariance matrix of the errors is correctly specified.\n"
          ]
        },
        {
          "output_type": "display_data",
          "data": {
            "text/plain": [
              "<Figure size 640x480 with 1 Axes>"
            ],
            "image/png": "[encoded data removed]"
          },
          "metadata": {}
        }
      ],
      "source": [
        "\n",
        "X = df[['crime', 'nox', 'rooms', 'proptax']]\n",
        "y = df['price']\n",
        "\n",
        "X = sm.add_constant(X)\n",
        "\n",
        "model = sm.OLS(y, X)\n",
        "results = model.fit()\n",
        "\n",
        "print(results.summary())\n",
        "\n",
        "\n",
        "residuals = results.resid\n",
        "plt.figure(2)\n",
        "plt.hist(residuals, bins=30, alpha=0.7, color='blue', edgecolor='black')\n",
        "plt.title('Histogram of Residuals')\n",
        "plt.show()\n",
        "\n",
        "\n"
      ]
    },
    {
      "cell_type": "markdown",
      "source": [
        "- The histogram of residuals is weighted more towards the left. As the distribution is not normal centred at 0, the model does not seem to fit.\n",
        "\n",
        "- The coefficient of crime is negative, which means that the higher the crime rate, the lower the price.\n",
        "- The coefficient of nox is negative, which means that the higher the nox, the lower the price.\n",
        "- The coefficient of rooms is positive, which means that the higher the number of rooms, the higher the price.\n",
        "- The coefficient of proptax is negative, which means that the higher the proptax, the lower the price."
      ],
      "metadata": {
        "id": "s8mtjTXZRPQz"
      }
    },
    {
      "cell_type": "markdown",
      "source": [
        "**Question 10**"
      ],
      "metadata": {
        "id": "Qb0umdYhVJpd"
      }
    },
    {
      "cell_type": "code",
      "execution_count": null,
      "metadata": {
        "colab": {
          "base_uri": "https://localhost:8080/"
        },
        "id": "xy7Md9obx_CB",
        "outputId": "13b79509-672a-42cb-dce1-d620ee8f00dc"
      },
      "outputs": [
        {
          "output_type": "stream",
          "name": "stdout",
          "text": [
            "                            OLS Regression Results                            \n",
            "==============================================================================\n",
            "Dep. Variable:                 lprice   R-squared:                       0.611\n",
            "Model:                            OLS   Adj. R-squared:                  0.608\n",
            "Method:                 Least Squares   F-statistic:                     196.9\n",
            "Date:                Sun, 08 Dec 2024   Prob (F-statistic):          2.50e-101\n",
            "Time:                        22:37:27   Log-Likelihood:                -26.367\n",
            "No. Observations:                 506   AIC:                             62.73\n",
            "Df Residuals:                     501   BIC:                             83.87\n",
            "Df Model:                           4                                         \n",
            "Covariance Type:            nonrobust                                         \n",
            "==============================================================================\n",
            "                 coef    std err          t      P>|t|      [0.025      0.975]\n",
            "------------------------------------------------------------------------------\n",
            "const          8.6550      0.137     63.320      0.000       8.386       8.924\n",
            "crime         -0.0125      0.002     -7.641      0.000      -0.016      -0.009\n",
            "nox           -0.0476      0.013     -3.557      0.000      -0.074      -0.021\n",
            "rooms          0.2816      0.017     16.379      0.000       0.248       0.315\n",
            "proptax       -0.0043      0.001     -4.184      0.000      -0.006      -0.002\n",
            "==============================================================================\n",
            "Omnibus:                      118.409   Durbin-Watson:                   0.764\n",
            "Prob(Omnibus):                  0.000   Jarque-Bera (JB):              730.140\n",
            "Skew:                           0.859   Prob(JB):                    2.83e-159\n",
            "Kurtosis:                       8.629   Cond. No.                         546.\n",
            "==============================================================================\n",
            "\n",
            "Notes:\n",
            "[1] Standard Errors assume that the covariance matrix of the errors is correctly specified.\n"
          ]
        }
      ],
      "source": [
        "\n",
        "X = df[['crime', 'nox', 'rooms', 'proptax']]\n",
        "y = df['lprice']\n",
        "\n",
        "X = sm.add_constant(X)\n",
        "\n",
        "model = sm.OLS(y, X)\n",
        "results = model.fit()\n",
        "\n",
        "print(results.summary())\n",
        "\n",
        "\n"
      ]
    },
    {
      "cell_type": "markdown",
      "source": [
        "\n",
        "- The coefficient of crime is negative. This means that the higher the crime rate, the lower the price of the house.\n",
        "- The coefficient of nox is negative. This means that the higher the nox, the lower the price of the house.\n",
        "- The coefficient of rooms is positive. This means that the more rooms, the higher the price of the house.\n",
        "- The coefficient of proptax is negative. This means that the higher the proptax, the lower the price of the house.\n",
        "- The coefficient of the constant is positive. This means that the price of the house is positive even when all the other variables are 0.\n",
        "\n",
        "We can notice that all the coefficients are significant."
      ],
      "metadata": {
        "id": "8gAYumfnTvzR"
      }
    },
    {
      "cell_type": "markdown",
      "source": [
        "**Question 11**"
      ],
      "metadata": {
        "id": "W0JXflw9Vcmw"
      }
    },
    {
      "cell_type": "code",
      "execution_count": null,
      "metadata": {
        "colab": {
          "base_uri": "https://localhost:8080/"
        },
        "id": "v-UeLFGFx_CB",
        "outputId": "290d8681-8ac6-4b9f-8e24-3820f19a247b"
      },
      "outputs": [
        {
          "output_type": "stream",
          "name": "stdout",
          "text": [
            "                            OLS Regression Results                            \n",
            "==============================================================================\n",
            "Dep. Variable:                 lprice   R-squared:                       0.612\n",
            "Model:                            OLS   Adj. R-squared:                  0.609\n",
            "Method:                 Least Squares   F-statistic:                     197.4\n",
            "Date:                Sun, 08 Dec 2024   Prob (F-statistic):          1.77e-101\n",
            "Time:                        22:37:27   Log-Likelihood:                -26.021\n",
            "No. Observations:                 506   AIC:                             62.04\n",
            "Df Residuals:                     501   BIC:                             83.18\n",
            "Df Model:                           4                                         \n",
            "Covariance Type:            nonrobust                                         \n",
            "==============================================================================\n",
            "                 coef    std err          t      P>|t|      [0.025      0.975]\n",
            "------------------------------------------------------------------------------\n",
            "const          9.7505      0.253     38.476      0.000       9.253      10.248\n",
            "crime         -0.0128      0.002     -8.002      0.000      -0.016      -0.010\n",
            "lnox          -0.2769      0.077     -3.591      0.000      -0.428      -0.125\n",
            "rooms          0.2802      0.017     16.282      0.000       0.246       0.314\n",
            "lproptax      -0.1779      0.042     -4.215      0.000      -0.261      -0.095\n",
            "==============================================================================\n",
            "Omnibus:                      116.110   Durbin-Watson:                   0.768\n",
            "Prob(Omnibus):                  0.000   Jarque-Bera (JB):              716.737\n",
            "Skew:                           0.838   Prob(JB):                    2.30e-156\n",
            "Kurtosis:                       8.585   Cond. No.                         241.\n",
            "==============================================================================\n",
            "\n",
            "Notes:\n",
            "[1] Standard Errors assume that the covariance matrix of the errors is correctly specified.\n"
          ]
        }
      ],
      "source": [
        "X = df[['crime', 'lnox', 'rooms', 'lproptax']]\n",
        "y = df['lprice']\n",
        "\n",
        "X = sm.add_constant(X)\n",
        "model = sm.OLS(y, X)\n",
        "results = model.fit()\n",
        "\n",
        "print(results.summary())\n",
        "\n",
        "\n"
      ]
    },
    {
      "cell_type": "markdown",
      "source": [
        "\n",
        "- The coefficient of crime is negative. This means that the higher the crime rate, the lower the price of the house.\n",
        "- The coefficient of lnox is negative. This means that the higher the nox, the lower the price of the house.\n",
        "- The coefficient of rooms is positive. This means that the more rooms, the higher the price of the house.\n",
        "- The coefficient of lproptax is negative. This means that the higher the proptax, the lower the price of the house.\n",
        "\n",
        "We can notice the fact that all the coefficients are significant."
      ],
      "metadata": {
        "id": "uz3A8RQ4U9fk"
      }
    },
    {
      "cell_type": "markdown",
      "source": [
        "**Question 12**"
      ],
      "metadata": {
        "id": "WhphXWv4VgDc"
      }
    },
    {
      "cell_type": "code",
      "execution_count": null,
      "metadata": {
        "colab": {
          "base_uri": "https://localhost:8080/"
        },
        "id": "Uo_Eses7x_CC",
        "outputId": "d4984188-9904-431a-c563-1388dba3a9c0"
      },
      "outputs": [
        {
          "output_type": "stream",
          "name": "stdout",
          "text": [
            "                            OLS Regression Results                            \n",
            "==============================================================================\n",
            "Dep. Variable:                  price   R-squared:                       0.575\n",
            "Model:                            OLS   Adj. R-squared:                  0.572\n",
            "Method:                 Least Squares   F-statistic:                     169.6\n",
            "Date:                Sun, 08 Dec 2024   Prob (F-statistic):           1.06e-91\n",
            "Time:                        22:37:27   Log-Likelihood:                -5119.6\n",
            "No. Observations:                 506   AIC:                         1.025e+04\n",
            "Df Residuals:                     501   BIC:                         1.027e+04\n",
            "Df Model:                           4                                         \n",
            "Covariance Type:            nonrobust                                         \n",
            "==============================================================================\n",
            "                 coef    std err          t      P>|t|      [0.025      0.975]\n",
            "------------------------------------------------------------------------------\n",
            "const      -1.868e+04   3215.205     -5.811      0.000    -2.5e+04   -1.24e+04\n",
            "crime       -136.5438     38.529     -3.544      0.000    -212.241     -60.846\n",
            "nox         -660.4672    314.634     -2.099      0.036   -1278.632     -42.303\n",
            "rooms       7797.9286    404.345     19.285      0.000    7003.507    8592.350\n",
            "proptax      -89.4144     23.966     -3.731      0.000    -136.500     -42.329\n",
            "==============================================================================\n",
            "Omnibus:                      264.796   Durbin-Watson:                   0.752\n",
            "Prob(Omnibus):                  0.000   Jarque-Bera (JB):             2348.397\n",
            "Skew:                           2.111   Prob(JB):                         0.00\n",
            "Kurtosis:                      12.673   Cond. No.                         546.\n",
            "==============================================================================\n",
            "\n",
            "Notes:\n",
            "[1] Standard Errors assume that the covariance matrix of the errors is correctly specified.\n",
            "P-value for 'nox': 0.0363\n",
            "We fail to reject H0: the coefficient for 'nox' is not statistically significant at the 1% level.\n"
          ]
        }
      ],
      "source": [
        "X = df[['crime', 'nox', 'rooms', 'proptax']]\n",
        "y = df['price']\n",
        "\n",
        "X = sm.add_constant(X)\n",
        "\n",
        "model = sm.OLS(y, X)\n",
        "results = model.fit()\n",
        "\n",
        "print(results.summary())\n",
        "\n",
        "# Extract the p-value for nox\n",
        "p_value_nox = results.pvalues['nox']\n",
        "\n",
        "print(f\"P-value for 'nox': {p_value_nox:.4f}\")\n",
        "\n",
        "# Checking at the 1% significance level\n",
        "alpha = 0.01\n",
        "if p_value_nox < alpha:\n",
        "    print(\"We reject H0: the coefficient for 'nox' is statistically significant at the 1% level.\")\n",
        "else:\n",
        "    print(\"We fail to reject H0: the coefficient for 'nox' is not statistically significant at the 1% level.\")\n"
      ]
    },
    {
      "cell_type": "markdown",
      "source": [
        "**Question 13**"
      ],
      "metadata": {
        "id": "57yoS3p1UTBK"
      }
    },
    {
      "cell_type": "markdown",
      "source": [
        "In order to perform this test, we define the variable $\\theta = \\beta_{crime} - \\beta_{proptax}$. Then, we test the hypothesis H0: $\\theta = 0$ vs. H1: $\\theta ≠ 0$ at the 10% level.\n",
        "\n",
        "Starting from the X of question 9:\n",
        "$$\n",
        "X_{question9} = \\beta_0 + \\beta_{crime} * crime + \\beta_{nox} * nox + \\beta_{rooms} * rooms + \\beta_{proptax} * proptax + \\epsilon\n",
        "$$\n",
        "$$\n",
        "\\theta = \\beta_{crime} - \\beta_{proptax}\n",
        "$$\n",
        "and so:\n",
        "$$\n",
        "\\beta_{crime} = \\theta + \\beta_{proptax}\n",
        "$$\n",
        "Rewriting $X_{question9}$ in terms of $\\theta$:\n",
        "$$\n",
        "X_{question9} = \\beta_0 + (\\theta + \\beta_{proptax}) * crime + \\beta_{nox} * nox + \\beta_{rooms} * rooms + \\beta_{proptax} * proptax + \\epsilon\n",
        "$$\n",
        "$$\n",
        "X_{question9} = \\beta_0 + \\theta * crime + \\beta_{proptax} * crime + \\beta_{nox} * nox + \\beta_{rooms} * rooms + \\beta_{proptax} * proptax + \\epsilon\n",
        "$$\n",
        "Finally, we can rewrite $X_{question9}$ in order to answer the question:\n",
        "$$\n",
        "X = \\beta_0 + \\theta * crime + \\beta_{nox} * nox + \\beta_{rooms} * rooms + \\beta_{proptax} * (crime + proptax) + \\epsilon\n",
        "$$"
      ],
      "metadata": {
        "id": "MsJ--VmgQkKu"
      }
    },
    {
      "cell_type": "code",
      "source": [
        "# create X and y\n",
        "crime = df[\"crime\"]\n",
        "proptax = df[\"proptax\"]\n",
        "nox = df[\"nox\"]\n",
        "rooms = df[\"rooms\"]\n",
        "price = df[\"price\"]\n",
        "\n",
        "X = np.column_stack((crime, nox, rooms, proptax + crime))\n",
        "y = price\n",
        "\n",
        "# add constant\n",
        "X = sm.add_constant(X)\n",
        "\n",
        "# fit model\n",
        "model = sm.OLS(y, X).fit()\n",
        "\n",
        "# print summary\n",
        "print(model.summary())\n",
        "\n",
        "alpha = 0.1\n",
        "variable = \"x1\"  # this will be our theta\n",
        "\n",
        "print(\"p_value: \", model.pvalues[variable])\n",
        "\n",
        "print(\"Reject H_0 ?\", model.pvalues[variable] < alpha)"
      ],
      "metadata": {
        "colab": {
          "base_uri": "https://localhost:8080/"
        },
        "id": "Zym8DO5pYSwA",
        "outputId": "fcff6077-3af3-4a4b-da92-8f8f25c4de01"
      },
      "execution_count": null,
      "outputs": [
        {
          "output_type": "stream",
          "name": "stdout",
          "text": [
            "                            OLS Regression Results                            \n",
            "==============================================================================\n",
            "Dep. Variable:                  price   R-squared:                       0.575\n",
            "Model:                            OLS   Adj. R-squared:                  0.572\n",
            "Method:                 Least Squares   F-statistic:                     169.6\n",
            "Date:                Sun, 08 Dec 2024   Prob (F-statistic):           1.06e-91\n",
            "Time:                        22:37:27   Log-Likelihood:                -5119.6\n",
            "No. Observations:                 506   AIC:                         1.025e+04\n",
            "Df Residuals:                     501   BIC:                         1.027e+04\n",
            "Df Model:                           4                                         \n",
            "Covariance Type:            nonrobust                                         \n",
            "==============================================================================\n",
            "                 coef    std err          t      P>|t|      [0.025      0.975]\n",
            "------------------------------------------------------------------------------\n",
            "const      -1.868e+04   3215.205     -5.811      0.000    -2.5e+04   -1.24e+04\n",
            "x1           -47.1294     53.574     -0.880      0.379    -152.387      58.128\n",
            "x2          -660.4672    314.634     -2.099      0.036   -1278.632     -42.303\n",
            "x3          7797.9286    404.345     19.285      0.000    7003.507    8592.350\n",
            "x4           -89.4144     23.966     -3.731      0.000    -136.500     -42.329\n",
            "==============================================================================\n",
            "Omnibus:                      264.796   Durbin-Watson:                   0.752\n",
            "Prob(Omnibus):                  0.000   Jarque-Bera (JB):             2348.397\n",
            "Skew:                           2.111   Prob(JB):                         0.00\n",
            "Kurtosis:                      12.673   Cond. No.                         617.\n",
            "==============================================================================\n",
            "\n",
            "Notes:\n",
            "[1] Standard Errors assume that the covariance matrix of the errors is correctly specified.\n",
            "p_value:  0.37943982812160815\n",
            "Reject H_0 ? False\n"
          ]
        }
      ]
    },
    {
      "cell_type": "markdown",
      "source": [
        "**Question 14**"
      ],
      "metadata": {
        "id": "FlzhUS_lUXJ-"
      }
    },
    {
      "cell_type": "code",
      "execution_count": null,
      "metadata": {
        "colab": {
          "base_uri": "https://localhost:8080/"
        },
        "id": "qeXshxghx_CE",
        "outputId": "fc3cf1eb-d710-4c5e-8829-b7bbdb7bb860"
      },
      "outputs": [
        {
          "output_type": "stream",
          "name": "stdout",
          "text": [
            "F-statistic: 19.31129034955289\n",
            "p-value: 8.332525004918138e-09\n",
            "Reject H0: The coefficients of 'nox' and 'proptax' are significantly different from zero.\n"
          ]
        }
      ],
      "source": [
        "# Specification from question 9\n",
        "X = df[['crime', 'nox', 'rooms', 'proptax']] # This is the full model\n",
        "y = df['price']\n",
        "X = sm.add_constant(X)  # This adds the constant to the full model, previously called \"X_full\" in Q9\n",
        "model = sm.OLS(y, X)\n",
        "results = model.fit()\n",
        "\n",
        "# Restricted model (impose βnox = 0 and βproptax = 0)\n",
        "X_restricted = sm.add_constant(df[['crime', 'rooms']])  # Exclude 'nox' and 'proptax'\n",
        "model_restricted = sm.OLS(y, X_restricted).fit()\n",
        "SSR_restricted = np.sum(model_restricted.resid**2)\n",
        "\n",
        "# Number of observations and parameters\n",
        "n = X.shape[0]  # X was the full model's dataframe in Q9, previously called \"X_full\"\n",
        "k_full = X.shape[1]\n",
        "k_restricted = X_restricted.shape[1]\n",
        "\n",
        "# F-statistic\n",
        "SSR_full = np.sum(results.resid**2)  # Define SSR_full based on the full model\n",
        "F_stat = ((SSR_restricted - SSR_full) / (k_full - k_restricted)) / (SSR_full / (n - k_full))\n",
        "\n",
        "# p-value for the F-test\n",
        "p_value_F = f.sf(F_stat, k_full - k_restricted, n - k_full)\n",
        "\n",
        "# Display results\n",
        "print(f\"F-statistic: {F_stat}\")\n",
        "print(f\"p-value: {p_value_F}\")\n",
        "\n",
        "# Hypothesis test\n",
        "alpha = 0.10\n",
        "if p_value_F < alpha:\n",
        "    print(\"Reject H0: The coefficients of 'nox' and 'proptax' are significantly different from zero.\")\n",
        "else:\n",
        "    print(\"Fail to reject H0: The coefficients of 'nox' and 'proptax' are not significantly different from zero.\")"
      ]
    },
    {
      "cell_type": "markdown",
      "source": [
        "**Question 15**"
      ],
      "metadata": {
        "id": "6viya6lUX9zr"
      }
    },
    {
      "source": [
        "# Full model (unrestricted)\n",
        "X = df[['crime', 'rooms']]\n",
        "y = df['lprice']\n",
        "X = sm.add_constant(X)\n",
        "\n",
        "model_unrestricted = sm.OLS(y, X).fit()\n",
        "df_u = model_unrestricted.df_resid\n",
        "SSR0 = model_unrestricted.ssr\n",
        "\n",
        "# Restricted model (transformed y)\n",
        "y_transformed = df['lprice'] + 500 * df['nox'] + 100 * df['proptax']\n",
        "model_restricted = sm.OLS(y_transformed, X).fit()\n",
        "df_r = model_restricted.df_resid\n",
        "SSR1 = model_restricted.ssr\n",
        "\n",
        "# F-statistic and p-value\n",
        "q = df_u - df_r\n",
        "F_stat = ((SSR1 - SSR0) / q) / (SSR0 / df_u)\n",
        "print(\"\\nF-statistic:\", F_stat)\n",
        "\n",
        "p_val = f.sf(F_stat, q, df_u)\n",
        "print(\"\\np-value:\", p_val)\n",
        "\n",
        "# Hypothesis test with additional check\n",
        "alpha = 0.10\n",
        "if not np.isnan(p_val):\n",
        "    print(\"\\nReject H_0 ?\", p_val < alpha)\n",
        "else:\n",
        "    print(\"\\Reject H_0.\")\n"
      ],
      "cell_type": "code",
      "metadata": {
        "colab": {
          "base_uri": "https://localhost:8080/"
        },
        "id": "tx2n3S8TaEfL",
        "outputId": "dcbe92bd-0a67-451a-b111-3c2a6e9c5ec4"
      },
      "execution_count": null,
      "outputs": [
        {
          "output_type": "stream",
          "name": "stdout",
          "text": [
            "\n",
            "F-statistic: inf\n",
            "\n",
            "p-value: nan\n",
            "\\Reject H_0.\n"
          ]
        },
        {
          "output_type": "stream",
          "name": "stderr",
          "text": [
            "<ipython-input-784-c0269ff6839c>:18: RuntimeWarning: divide by zero encountered in scalar divide\n",
            "  F_stat = ((SSR1 - SSR0) / q) / (SSR0 / df_u)\n"
          ]
        }
      ]
    },
    {
      "cell_type": "markdown",
      "source": [
        "Note : F-statistic seems to be extremely high so detected as a divide by zero. p-value is very close to zero so the hypothesis H0 is rejected."
      ],
      "metadata": {
        "id": "3Alh_WpObczD"
      }
    },
    {
      "cell_type": "markdown",
      "source": [
        "**Question 16**"
      ],
      "metadata": {
        "id": "klbOgszKbE61"
      }
    },
    {
      "cell_type": "code",
      "source": [
        "# Create subsets for each group\n",
        "df_low = df[conditions[0]]\n",
        "df_medium = df[conditions[1]]\n",
        "df_high = df[conditions[2]]\n",
        "\n",
        "# Add a constant\n",
        "X_low = sm.add_constant(df_low[['crime', 'nox', 'rooms', 'proptax']])\n",
        "X_medium = sm.add_constant(df_medium[['crime', 'nox', 'rooms', 'proptax']])\n",
        "X_high = sm.add_constant(df_high[['crime', 'nox', 'rooms', 'proptax']])\n",
        "\n",
        "y_low = df_low['price']\n",
        "y_medium = df_medium['price']\n",
        "y_high = df_high['price']\n",
        "\n",
        "# Perform regressions for each group\n",
        "model_low = sm.OLS(y_low, X_low).fit()\n",
        "model_medium = sm.OLS(y_medium, X_medium).fit()\n",
        "model_high = sm.OLS(y_high, X_high).fit()\n",
        "\n",
        "# Calculate residuals and SSR for each model\n",
        "SSR_low = np.sum(model_low.resid**2)\n",
        "SSR_medium = np.sum(model_medium.resid**2)\n",
        "SSR_high = np.sum(model_high.resid**2)\n",
        "\n",
        "# Calculate the SSR for the unrestricted model (all data pooled)\n",
        "X_pooled = sm.add_constant(df[['crime', 'nox', 'rooms', 'proptax']])\n",
        "y_pooled = df['price']\n",
        "model_pooled = sm.OLS(y_pooled, X_pooled).fit()\n",
        "SSR_pooled = np.sum(model_pooled.resid**2)\n",
        "\n",
        "# Calculate the F-statistic\n",
        "num_restrictions = (len(model_pooled.params) - 1) * (3 - 1)  # (k-1)*(g-1) where k = num of params, g = num of groups\n",
        "F_stat = ((SSR_pooled - (SSR_low + SSR_medium + SSR_high)) / num_restrictions) / \\\n",
        "         ((SSR_low + SSR_medium + SSR_high) / (len(df) - len(model_pooled.params) * 3))  # df2 = n - kg\n",
        "\n",
        "# Calculate the p-value of the F-statistic\n",
        "p_value = f.sf(F_stat, num_restrictions, len(df) - len(model_pooled.params) * 3)\n",
        "\n",
        "# Print the results of the test\n",
        "print(f\"F-statistic: {F_stat}\")\n",
        "print(f\"p-value: {p_value}\")\n",
        "\n",
        "# Test the hypothesis\n",
        "alpha = 0.10  # Significance level of 10%\n",
        "\n",
        "if p_value < alpha:\n",
        "    print(\"We reject H0: The coefficients are significantly different between the groups.\")\n",
        "else:\n",
        "    print(\"We fail to reject H0: The coefficients are not significantly different between the groups.\")"
      ],
      "metadata": {
        "id": "UONNjrPNcH10",
        "colab": {
          "base_uri": "https://localhost:8080/"
        },
        "outputId": "486ed1c0-cdb1-41a7-9e01-5bb61a4fe387"
      },
      "execution_count": null,
      "outputs": [
        {
          "output_type": "stream",
          "name": "stdout",
          "text": [
            "F-statistic: 15.306882443526305\n",
            "p-value: 3.8401368450633154e-20\n",
            "We reject H0: The coefficients are significantly different between the groups.\n"
          ]
        }
      ]
    },
    {
      "cell_type": "markdown",
      "source": [
        "**Question 17**"
      ],
      "metadata": {
        "id": "-F6xn5KXcLMs"
      }
    },
    {
      "cell_type": "code",
      "source": [
        "df_low = df[conditions[0]]\n",
        "df_medium = df[conditions[1]]\n",
        "df_high = df[conditions[2]]\n",
        "\n",
        "X_low = sm.add_constant(df_low[['crime', 'nox', 'rooms', 'proptax']])\n",
        "X_medium = sm.add_constant(df_medium[['crime', 'nox', 'rooms', 'proptax']])\n",
        "X_high = sm.add_constant(df_high[['crime', 'nox', 'rooms', 'proptax']])\n",
        "\n",
        "y_low = df_low['price']\n",
        "y_medium = df_medium['price']\n",
        "y_high = df_high['price']\n",
        "\n",
        "model_low = sm.OLS(y_low, X_low).fit()\n",
        "model_medium = sm.OLS(y_medium, X_medium).fit()\n",
        "model_high = sm.OLS(y_high, X_high).fit()\n",
        "\n",
        "# Calculate the SSR for the unrestricted model (sum of SSRs from individual group regressions)\n",
        "SSR_unrestricted = np.sum(model_low.resid**2) + np.sum(model_medium.resid**2) + np.sum(model_high.resid**2)\n",
        "\n",
        "\n",
        "# Perform restricted regression (assuming crime and rooms coefficients are the same)\n",
        "# Create interaction terms for nox and proptax with group dummies\n",
        "df['group_medium'] = np.where(conditions[1], 1, 0)\n",
        "df['group_high'] = np.where(conditions[2], 1, 0)\n",
        "df['nox_medium'] = df['nox'] * df['group_medium']\n",
        "df['nox_high'] = df['nox'] * df['group_high']\n",
        "df['proptax_medium'] = df['proptax'] * df['group_medium']\n",
        "df['proptax_high'] = df['proptax'] * df['group_high']\n",
        "\n",
        "# Define restricted model with interaction terms\n",
        "X_restricted = sm.add_constant(df[['crime', 'nox', 'rooms', 'proptax',\n",
        "                                     'nox_medium', 'nox_high',\n",
        "                                     'proptax_medium', 'proptax_high']])\n",
        "y_restricted = df['price']\n",
        "model_restricted = sm.OLS(y_restricted, X_restricted).fit()\n",
        "SSR_restricted = np.sum(model_restricted.resid**2)\n",
        "\n",
        "# Calculate the F-statistic\n",
        "num_restrictions = 2 * (3 - 1)  # 2 coefficients (nox, proptax) with (g-1) restrictions\n",
        "F_stat = ((SSR_restricted - SSR_unrestricted) / num_restrictions) / \\\n",
        "         (SSR_unrestricted / (len(df) - (len(model_low.params) * 3)))\n",
        "\n",
        "# Calculate the p-value of the F-statistic\n",
        "p_value = f.sf(F_stat, num_restrictions, len(df) - (len(model_low.params) * 3))\n",
        "\n",
        "# Print the results of the test\n",
        "print(f\"F-statistic: {F_stat}\")\n",
        "print(f\"p-value: {p_value}\")\n",
        "\n",
        "# Test the hypothesis\n",
        "alpha = 0.10  # Significance level of 10%\n",
        "\n",
        "if p_value < alpha:\n",
        "    print(\"We reject H0: The coefficients of 'nox' and 'proptax' are significantly different between the groups.\")\n",
        "else:\n",
        "    print(\"We fail to reject H0: The coefficients of 'nox' and 'proptax' are not significantly different between the groups.\")"
      ],
      "metadata": {
        "id": "ZLiaDAgjcNDJ",
        "colab": {
          "base_uri": "https://localhost:8080/"
        },
        "outputId": "a48ebdf3-6530-4986-dba2-494eb5c35a87"
      },
      "execution_count": null,
      "outputs": [
        {
          "output_type": "stream",
          "name": "stdout",
          "text": [
            "F-statistic: 29.917094933344636\n",
            "p-value: 2.7316986590533234e-22\n",
            "We reject H0: The coefficients of 'nox' and 'proptax' are significantly different between the groups.\n"
          ]
        }
      ]
    },
    {
      "cell_type": "markdown",
      "source": [
        "# **Part 2**"
      ],
      "metadata": {
        "id": "4hKBUsDfAWKM"
      }
    },
    {
      "cell_type": "markdown",
      "source": [
        "**Question 18**\n",
        "\n",
        "Heteroskedasticity arises when the variance of the error term is not constant across observations, meaning that the variability of errors differs depending on the data points. This violates the assumption of homoskedasticity, a key condition of the classical linear regression model. As a result, the OLS estimator is no longer BLUE (Best Linear Unbiased Estimator), as it loses efficiency.\n",
        "\n",
        "For example, in class, we examined how house prices relate to different factors. When predicting house prices with a model, the difference between the predicted and actual prices (the errors) may vary significantly as house sizes increase. Predictions for smaller houses tend to be more consistent, but larger houses often exhibit greater variability in prediction errors. This variability conflicts with the OLS assumption of constant error variance, complicating its application."
      ],
      "metadata": {
        "id": "bezTRYfHjBwY"
      }
    },
    {
      "cell_type": "markdown",
      "source": [
        "**Note: for all the questions 19, 20 and 21 that follow, we set alpha = 0.01 (to be in line with the value seen in practical work).**"
      ],
      "metadata": {
        "id": "ddy2k04_ypCt"
      }
    },
    {
      "cell_type": "markdown",
      "source": [
        "**Question 19**"
      ],
      "metadata": {
        "id": "PIDilQNZA6VK"
      }
    },
    {
      "cell_type": "code",
      "source": [
        "#Q19\n",
        "\n",
        "\n",
        "X = df[['crime', 'nox', 'rooms', 'proptax']]\n",
        "y = df['price']\n",
        "\n",
        "X = sm.add_constant(X)\n",
        "model = sm.OLS(y, X)\n",
        "results = model.fit()\n",
        "\n",
        "u=results.resid\n",
        "u2=u*u\n",
        "y=u2\n",
        "model=sm.OLS(y,X)\n",
        "results = model.fit()\n",
        "print(results.summary())\n",
        "\n",
        "# Décision sur H0 (absence d'hétéroscédasticité)\n",
        "alpha = 0.01  # Niveau de significativité\n",
        "p_values = results.pvalues  # P-valeurs des coefficients\n",
        "\n",
        "# Exclusion de la constante (on teste uniquement les variables explicatives)\n",
        "p_values_explanatory = p_values[1:]  # Exclure la p-value de la constante\n",
        "\n",
        "# Test H0 pour chaque coefficient\n",
        "reject_H0 = any(p < alpha for p in p_values_explanatory)\n",
        "\n",
        "if reject_H0:\n",
        "    print(\"On rejette H0 : il y a une forme d'hétéroscédasticité.\")\n",
        "else:\n",
        "    print(\"On ne rejette pas H0 : il n'y a pas d'hétéroscédasticité détectée.\")\n",
        "\n"
      ],
      "metadata": {
        "id": "xtDx08FEA4lA",
        "outputId": "f865f94c-5e53-4a8b-acab-0c2870d46119",
        "colab": {
          "base_uri": "https://localhost:8080/"
        }
      },
      "execution_count": null,
      "outputs": [
        {
          "output_type": "stream",
          "name": "stdout",
          "text": [
            "                            OLS Regression Results                            \n",
            "==============================================================================\n",
            "Dep. Variable:                      y   R-squared:                       0.051\n",
            "Model:                            OLS   Adj. R-squared:                  0.044\n",
            "Method:                 Least Squares   F-statistic:                     6.799\n",
            "Date:                Sun, 08 Dec 2024   Prob (F-statistic):           2.47e-05\n",
            "Time:                        22:37:27   Log-Likelihood:                -10130.\n",
            "No. Observations:                 506   AIC:                         2.027e+04\n",
            "Df Residuals:                     501   BIC:                         2.029e+04\n",
            "Df Model:                           4                                         \n",
            "Covariance Type:            nonrobust                                         \n",
            "==============================================================================\n",
            "                 coef    std err          t      P>|t|      [0.025      0.975]\n",
            "------------------------------------------------------------------------------\n",
            "const      -5.885e+07   6.41e+07     -0.917      0.359   -1.85e+08    6.72e+07\n",
            "crime      -9.687e+05   7.69e+05     -1.260      0.208   -2.48e+06    5.42e+05\n",
            "nox         9.091e+05   6.28e+06      0.145      0.885   -1.14e+07    1.32e+07\n",
            "rooms        2.63e+06   8.07e+06      0.326      0.745   -1.32e+07    1.85e+07\n",
            "proptax      1.88e+06   4.78e+05      3.931      0.000     9.4e+05    2.82e+06\n",
            "==============================================================================\n",
            "Omnibus:                      760.905   Durbin-Watson:                   0.777\n",
            "Prob(Omnibus):                  0.000   Jarque-Bera (JB):           159893.659\n",
            "Skew:                           8.299   Prob(JB):                         0.00\n",
            "Kurtosis:                      88.489   Cond. No.                         546.\n",
            "==============================================================================\n",
            "\n",
            "Notes:\n",
            "[1] Standard Errors assume that the covariance matrix of the errors is correctly specified.\n",
            "On rejette H0 : il y a une forme d'hétéroscédasticité.\n"
          ]
        }
      ]
    },
    {
      "cell_type": "markdown",
      "source": [
        "**Question 20**\n"
      ],
      "metadata": {
        "id": "rCctoOQSBBo1"
      }
    },
    {
      "cell_type": "code",
      "source": [
        "#Q20\n",
        "X = df[['crime', 'nox', 'rooms', 'proptax']]\n",
        "y = df['lprice']\n",
        "\n",
        "X = sm.add_constant(X)\n",
        "\n",
        "model = sm.OLS(y, X)\n",
        "results = model.fit()\n",
        "\n",
        "u=results.resid\n",
        "u2=u*u\n",
        "y=u2\n",
        "model=sm.OLS(y,X)\n",
        "results = model.fit()\n",
        "print(results.summary())\n",
        "\n",
        "# Décision sur H0 (absence d'hétéroscédasticité)\n",
        "alpha = 0.01  # Niveau de significativité\n",
        "p_values = results.pvalues  # P-valeurs des coefficients\n",
        "\n",
        "# Exclusion de la constante (on teste uniquement les variables explicatives)\n",
        "p_values_explanatory = p_values[1:]  # Exclure la p-value de la constante\n",
        "\n",
        "# Test H0 pour chaque coefficient\n",
        "reject_H0 = any(p < alpha for p in p_values_explanatory)\n",
        "\n",
        "if reject_H0:\n",
        "    print(\"On rejette H0 : il y a une forme d'hétéroscédasticité.\")\n",
        "else:\n",
        "    print(\"On ne rejette pas H0 : il n'y a pas d'hétéroscédasticité détectée.\")"
      ],
      "metadata": {
        "id": "0V27w42ABjmM",
        "outputId": "004f448d-cd93-4edd-e23b-e7ad43047cc0",
        "colab": {
          "base_uri": "https://localhost:8080/"
        }
      },
      "execution_count": null,
      "outputs": [
        {
          "output_type": "stream",
          "name": "stdout",
          "text": [
            "                            OLS Regression Results                            \n",
            "==============================================================================\n",
            "Dep. Variable:                      y   R-squared:                       0.126\n",
            "Model:                            OLS   Adj. R-squared:                  0.119\n",
            "Method:                 Least Squares   F-statistic:                     17.98\n",
            "Date:                Sun, 08 Dec 2024   Prob (F-statistic):           8.33e-14\n",
            "Time:                        22:37:27   Log-Likelihood:                 185.10\n",
            "No. Observations:                 506   AIC:                            -360.2\n",
            "Df Residuals:                     501   BIC:                            -339.1\n",
            "Df Model:                           4                                         \n",
            "Covariance Type:            nonrobust                                         \n",
            "==============================================================================\n",
            "                 coef    std err          t      P>|t|      [0.025      0.975]\n",
            "------------------------------------------------------------------------------\n",
            "const          0.0757      0.090      0.842      0.400      -0.101       0.253\n",
            "crime      -3.794e-05      0.001     -0.035      0.972      -0.002       0.002\n",
            "nox            0.0001      0.009      0.017      0.986      -0.017       0.017\n",
            "rooms         -0.0237      0.011     -2.096      0.037      -0.046      -0.001\n",
            "proptax        0.0034      0.001      5.026      0.000       0.002       0.005\n",
            "==============================================================================\n",
            "Omnibus:                      612.530   Durbin-Watson:                   0.914\n",
            "Prob(Omnibus):                  0.000   Jarque-Bera (JB):            48787.030\n",
            "Skew:                           5.865   Prob(JB):                         0.00\n",
            "Kurtosis:                      49.652   Cond. No.                         546.\n",
            "==============================================================================\n",
            "\n",
            "Notes:\n",
            "[1] Standard Errors assume that the covariance matrix of the errors is correctly specified.\n",
            "On rejette H0 : il y a une forme d'hétéroscédasticité.\n"
          ]
        }
      ]
    },
    {
      "cell_type": "markdown",
      "source": [
        "**Question 21**"
      ],
      "metadata": {
        "id": "dUazhPc2BkVU"
      }
    },
    {
      "cell_type": "code",
      "source": [
        "#Q21\n",
        "X = df[['crime', 'lnox', 'rooms', 'lproptax']]\n",
        "y = df['lprice']\n",
        "\n",
        "X = sm.add_constant(X)\n",
        "\n",
        "model = sm.OLS(y, X)\n",
        "results = model.fit()\n",
        "\n",
        "u=results.resid\n",
        "u2=u*u\n",
        "y=u2\n",
        "model=sm.OLS(y,X)\n",
        "results = model.fit()\n",
        "print(results.summary())\n",
        "\n",
        "# Décision sur H0 (absence d'hétéroscédasticité)\n",
        "alpha = 0.01  # Niveau de significativité\n",
        "p_values = results.pvalues  # P-valeurs des coefficients\n",
        "\n",
        "# Exclusion de la constante (on teste uniquement les variables explicatives)\n",
        "p_values_explanatory = p_values[1:]  # Exclure la p-value de la constante\n",
        "\n",
        "# Test H0 pour chaque coefficient\n",
        "reject_H0 = any(p < alpha for p in p_values_explanatory)\n",
        "\n",
        "if reject_H0:\n",
        "    print(\"On rejette H0 : il y a une forme d'hétéroscédasticité.\")\n",
        "else:\n",
        "    print(\"On ne rejette pas H0 : il n'y a pas d'hétéroscédasticité détectée.\")\n",
        "\n"
      ],
      "metadata": {
        "id": "8gF2aBPSBpwn",
        "outputId": "6e125f3a-f80a-4ace-f6ff-ead013db9981",
        "colab": {
          "base_uri": "https://localhost:8080/"
        }
      },
      "execution_count": null,
      "outputs": [
        {
          "output_type": "stream",
          "name": "stdout",
          "text": [
            "                            OLS Regression Results                            \n",
            "==============================================================================\n",
            "Dep. Variable:                      y   R-squared:                       0.116\n",
            "Model:                            OLS   Adj. R-squared:                  0.109\n",
            "Method:                 Least Squares   F-statistic:                     16.51\n",
            "Date:                Sun, 08 Dec 2024   Prob (F-statistic):           1.02e-12\n",
            "Time:                        22:37:27   Log-Likelihood:                 184.66\n",
            "No. Observations:                 506   AIC:                            -359.3\n",
            "Df Residuals:                     501   BIC:                            -338.2\n",
            "Df Model:                           4                                         \n",
            "Covariance Type:            nonrobust                                         \n",
            "==============================================================================\n",
            "                 coef    std err          t      P>|t|      [0.025      0.975]\n",
            "------------------------------------------------------------------------------\n",
            "const         -0.5496      0.167     -3.289      0.001      -0.878      -0.221\n",
            "crime          0.0006      0.001      0.577      0.564      -0.001       0.003\n",
            "lnox           0.0404      0.051      0.794      0.427      -0.060       0.140\n",
            "rooms         -0.0219      0.011     -1.928      0.054      -0.044       0.000\n",
            "lproptax       0.1149      0.028      4.128      0.000       0.060       0.170\n",
            "==============================================================================\n",
            "Omnibus:                      614.102   Durbin-Watson:                   0.913\n",
            "Prob(Omnibus):                  0.000   Jarque-Bera (JB):            48743.795\n",
            "Skew:                           5.895   Prob(JB):                         0.00\n",
            "Kurtosis:                      49.615   Cond. No.                         241.\n",
            "==============================================================================\n",
            "\n",
            "Notes:\n",
            "[1] Standard Errors assume that the covariance matrix of the errors is correctly specified.\n",
            "On rejette H0 : il y a une forme d'hétéroscédasticité.\n"
          ]
        }
      ]
    },
    {
      "cell_type": "markdown",
      "source": [
        "**Question 22**\n",
        "\n",
        "Heteroscedasticity is observed consistently across all the questions analyzed.\n",
        "\n",
        "The primary transformation applied between questions was the use of logarithms, to reduce the impact of heteroscedasticity. However, this approach did not completely eliminate the issue.\n",
        "\n",
        "\n",
        "\n",
        "\n",
        "\n",
        "\n"
      ],
      "metadata": {
        "id": "kkVV3DKs0gIt"
      }
    },
    {
      "cell_type": "markdown",
      "source": [
        "**Question 23**"
      ],
      "metadata": {
        "id": "k6_l3_KxBsEv"
      }
    },
    {
      "cell_type": "code",
      "source": [
        "# Régression initiale (question 9)\n",
        "X = df[['crime', 'nox', 'rooms', 'proptax']]\n",
        "y = df['price']\n",
        "\n",
        "X = sm.add_constant(X)\n",
        "# Modèle OLS\n",
        "model_ols = sm.OLS(y, X)\n",
        "results_ols = model_ols.fit()\n",
        "\n",
        "# Résidus au carré\n",
        "u2 = results_ols.resid ** 2\n",
        "\n",
        "# Régression des résidus au carré pour identifier la variable causant l'hétéroscédasticité\n",
        "X_with_const = sm.add_constant(X)\n",
        "model_resid = sm.OLS(u2, X_with_const)\n",
        "results_resid = model_resid.fit()\n",
        "\n",
        "# Identifier la variable la plus significative\n",
        "p_values = results_resid.pvalues[1:]  # Exclure la constante\n",
        "most_significant_var = p_values.idxmin()  # Variable avec la plus petite p-value\n",
        "print(f\"La variable la plus significative est : {most_significant_var}\")\n",
        "\n",
        "# Régression WLS en utilisant la variable identifiée comme poids\n",
        "weights = 1 / df[most_significant_var]  # Inverse de la variable comme poids\n",
        "model_wls = sm.WLS(y, X, weights=np.sqrt(weights))\n",
        "results_wls = model_wls.fit()\n",
        "\n",
        "# Comparaison des erreurs standards\n",
        "comparison = {\n",
        "    \"OLS Standard Errors\": results_ols.bse,\n",
        "    \"WLS Standard Errors\": results_wls.bse,\n",
        "}\n",
        "print(\"Comparaison des erreurs standards :\")\n",
        "print(comparison)\n",
        "\n",
        "# Résumé des résultats WLS\n",
        "print(results_wls.summary())"
      ],
      "metadata": {
        "id": "1e2ZyjVXBs16",
        "outputId": "7dfe5760-7961-4d24-bf8c-f2d05d98b1b3",
        "colab": {
          "base_uri": "https://localhost:8080/"
        }
      },
      "execution_count": null,
      "outputs": [
        {
          "output_type": "stream",
          "name": "stdout",
          "text": [
            "La variable la plus significative est : proptax\n",
            "Comparaison des erreurs standards :\n",
            "{'OLS Standard Errors': const      3215.204520\n",
            "crime        38.528570\n",
            "nox         314.633813\n",
            "rooms       404.345434\n",
            "proptax      23.965587\n",
            "dtype: float64, 'WLS Standard Errors': const      3013.538749\n",
            "crime        41.299213\n",
            "nox         295.808578\n",
            "rooms       376.315278\n",
            "proptax      23.544293\n",
            "dtype: float64}\n",
            "                            WLS Regression Results                            \n",
            "==============================================================================\n",
            "Dep. Variable:                  price   R-squared:                       0.628\n",
            "Model:                            WLS   Adj. R-squared:                  0.625\n",
            "Method:                 Least Squares   F-statistic:                     211.2\n",
            "Date:                Sun, 08 Dec 2024   Prob (F-statistic):          4.82e-106\n",
            "Time:                        22:37:27   Log-Likelihood:                -5087.7\n",
            "No. Observations:                 506   AIC:                         1.019e+04\n",
            "Df Residuals:                     501   BIC:                         1.021e+04\n",
            "Df Model:                           4                                         \n",
            "Covariance Type:            nonrobust                                         \n",
            "==============================================================================\n",
            "                 coef    std err          t      P>|t|      [0.025      0.975]\n",
            "------------------------------------------------------------------------------\n",
            "const      -2.483e+04   3013.539     -8.241      0.000   -3.08e+04   -1.89e+04\n",
            "crime       -125.1360     41.299     -3.030      0.003    -206.277     -43.995\n",
            "nox         -475.0555    295.809     -1.606      0.109   -1056.234     106.123\n",
            "rooms       8645.5416    376.315     22.974      0.000    7906.191    9384.892\n",
            "proptax      -95.2123     23.544     -4.044      0.000    -141.470     -48.955\n",
            "==============================================================================\n",
            "Omnibus:                      223.900   Durbin-Watson:                   0.799\n",
            "Prob(Omnibus):                  0.000   Jarque-Bera (JB):             1477.171\n",
            "Skew:                           1.811   Prob(JB):                         0.00\n",
            "Kurtosis:                      10.546   Cond. No.                         510.\n",
            "==============================================================================\n",
            "\n",
            "Notes:\n",
            "[1] Standard Errors assume that the covariance matrix of the errors is correctly specified.\n"
          ]
        }
      ]
    },
    {
      "cell_type": "markdown",
      "source": [
        "- We can see in the first OLS summary that the variable with the lowest student statistics, hence the most responsible for heteroskedasticity is the variable 'proptax'. We used it as a weight in the WLS regression.\n",
        "\n",
        "- The reduction in standard errors suggests that WLS has effectively corrected for the impact of non-constant variance. However, the reduction in error for proptax is marginal, indicating that heteroskedasticity has not been completely eliminated. In summary, WLS improves the reliability of the estimates, but the choice of weight (here based on proptax) may still influence the results.\n",
        "Heteroscedasticity may not be fully captured by the inverse of proptax as a weight."
      ],
      "metadata": {
        "id": "uOLcQP_qAQmk"
      }
    },
    {
      "cell_type": "markdown",
      "source": [
        "### Part 3"
      ],
      "metadata": {
        "id": "l-Grk4dagE0a"
      }
    },
    {
      "cell_type": "markdown",
      "source": [
        "Initilization"
      ],
      "metadata": {
        "id": "MBvWw3QYgKw0"
      }
    },
    {
      "cell_type": "code",
      "source": [
        "import numpy as np\n",
        "import pandas as pd\n",
        "import matplotlib.pyplot as plt\n",
        "import statsmodels.api as sm\n",
        "from scipy.stats import f\n",
        "from statsmodels.tsa.stattools import adfuller\n",
        "df = pd.read_excel(\n",
        "    'https://raw.githubusercontent.com/IbaDemesy/Econometrics-project/main/threecenturies_v2.3.xlsx',\n",
        "    sheet_name=\"A1. Headline series\",\n",
        "    usecols=[1, 15, 28]\n",
        ")\n",
        "\n",
        "realGDP = df.iloc[246:347, 0].reset_index(drop=True)\n",
        "unemployment = df.iloc[246:347, 1].reset_index(drop=True)\n",
        "inflation = df.iloc[246:347, 2].reset_index(drop=True)\n",
        "\n",
        "df = pd.DataFrame(\n",
        "    {\"realGDP\": realGDP, \"unemployment\": unemployment, \"inflation\": inflation}\n",
        ")\n",
        "print(df)\n"
      ],
      "metadata": {
        "id": "Eab0Qob8gHnI",
        "colab": {
          "base_uri": "https://localhost:8080/"
        },
        "outputId": "c0be6906-fb71-4644-e0bd-71da8ee1b4fd"
      },
      "execution_count": null,
      "outputs": [
        {
          "output_type": "stream",
          "name": "stdout",
          "text": [
            "           realGDP unemployment inflation\n",
            "0    181160.264436     3.679865  4.058273\n",
            "1    184974.529384     4.877351      -0.3\n",
            "2    187756.550527     5.145694         0\n",
            "3     186015.76815     5.603507   1.10331\n",
            "4    188155.559259     6.914821 -0.396825\n",
            "..             ...          ...       ...\n",
            "96         1243709     8.097052  2.400308\n",
            "97         1282602     6.972014  1.824606\n",
            "98         1323527     6.255467  1.557398\n",
            "99         1366983     5.976813   1.32871\n",
            "100        1418176     5.459049  0.796456\n",
            "\n",
            "[101 rows x 3 columns]\n"
          ]
        }
      ]
    },
    {
      "cell_type": "markdown",
      "source": [
        "**Question 24**\n",
        "\n",
        "In the context of time series, a process is said to be strictly stationary if the joint distribution of $X_{t_1}, X_{t_2}, \\dots, X_{t_j}$ is the same as the joint distribution of $X_{t_1+h}, X_{t_2+h}, \\dots, X_{t_j+h}$ for all $j$ and all $h>0$ where h is an integer.\n",
        "\n",
        "A process is weakly stationary if the mean and variance of $X_t$ are constant over time and the covariance between $X_t$ and $X_{t+h}$ is a function depending only on $h$ (i.e. the covariance is only a function of the time distance between the two distinct observations). We assume that the first and the second moment exist in this case.\n",
        "\n",
        "In other words, it doesn't depend on the time at which the observations are taken.\n",
        "\n"
      ],
      "metadata": {
        "id": "3cOyUS5UEefo"
      }
    },
    {
      "cell_type": "markdown",
      "source": [
        "**Question 25**\n",
        "\n",
        "- Ergodicity is a property of stochastic processes where time averages along a single trajectory converge to ensemble averages (the statistical averages over all possible trajectories). In other words, for an ergodic process, observing one sufficiently long trajectory is enough to infer the overall behavior of the system. A process is ergodic if it is strictly stationary (its statistical properties, such as mean and variance, do not change over time) and if the influence of initial conditions disappears over time.\n",
        "\n",
        "- The ergodic theorem states that for such processes, the time average of a function $f(X_{t})$ of the process $X_{t}$ converges almost surely to its expected value $$E[f(X_{t})]$$.\n",
        "\n",
        "\n",
        "- An example of ergodicity is flipping a fair coin repeatedly. If you observe the outcome of a single coin (e.g., heads or tails) over a long series of flips, the proportion of heads (time average) will converge to the probability of heads (ensemble average), which is 0.5. This happens because each flip is independent, and the process is stationary : its statistical properties do not change over time."
      ],
      "metadata": {
        "id": "REk-R8f4EoWW"
      }
    },
    {
      "cell_type": "markdown",
      "source": [
        "**Question 26**\n",
        "\n",
        "Stationarity and ergodicity are crucial for time series analysis as they ensure model consistency (and its reliability).\n",
        "\n",
        "Stationarity guarantees that statistical properties (such as mean, variance, autocorrelation) remain constant over time, preventing spurious regressions caused by irrelevant trends.\n",
        "\n",
        "Ergodicity allows a single time series to represent the system's overall behavior by linking time averages to ensemble averages. Without these properties, predictions can require adjustments."
      ],
      "metadata": {
        "id": "PeDIR3ylEx7H"
      }
    },
    {
      "cell_type": "markdown",
      "source": [
        "**Question 27**\n",
        "\n",
        "Spurious regression refers to a situation where two non-stationary time series appear to be significantly related in a regression, even though there is no real relationship between them.\n",
        "\n",
        " It typically occurs when the series have common trends or drifts, causing high correlationnresults that are not meaningful.\n",
        "\n",
        " To avoid spurious regression, economists have to check for stationarity and even sometimes to transform the data before making the regression."
      ],
      "metadata": {
        "id": "KgwqoRypE-WM"
      }
    },
    {
      "cell_type": "markdown",
      "source": [
        "**Question 28**"
      ],
      "metadata": {
        "id": "XMyTfhvngbb1"
      }
    },
    {
      "cell_type": "code",
      "source": [
        "df_mavg_2x10 = df.copy()\n",
        "\n",
        "for column in df.columns:\n",
        "    data = df[column].to_numpy()\n",
        "    n = len(data)\n",
        "    mavg = np.zeros(n)\n",
        "\n",
        "    for t in range(n):\n",
        "        if 5 <= t < n - 5:\n",
        "            mavg[t] = (\n",
        "                (1/20) * data[t - 5]\n",
        "                + (1/20) * data[t + 5]\n",
        "                + (1/10) * np.sum(data[t - 4 : t + 5])\n",
        "            )\n",
        "        else:\n",
        "            # Replace NaN with the mean of the column\n",
        "            mavg[t] = np.nanmean(data)\n",
        "\n",
        "    df_mavg_2x10[column] = mavg\n",
        "\n",
        "# Compute the stationary time series by subtracting the moving average\n",
        "df_stationary_2x10 = df - df_mavg_2x10\n",
        "\n",
        "print(df_stationary_2x10)"
      ],
      "metadata": {
        "id": "DVkCgLTRsV0T",
        "outputId": "0d9c3aaa-edd6-4e26-b535-28d610446cec",
        "colab": {
          "base_uri": "https://localhost:8080/"
        }
      },
      "execution_count": null,
      "outputs": [
        {
          "output_type": "stream",
          "name": "stdout",
          "text": [
            "           realGDP unemployment inflation\n",
            "0   -344015.551821    -1.717574 -0.367203\n",
            "1   -340201.286873    -0.520088 -4.725476\n",
            "2    -337419.26573    -0.251745 -4.425476\n",
            "3   -339160.048107     0.206068 -3.322166\n",
            "4   -337020.256998     1.517383 -4.822301\n",
            "..             ...          ...       ...\n",
            "96   718533.183743     2.699613 -2.025168\n",
            "97   757426.183743     1.574575  -2.60087\n",
            "98   798351.183743     0.858028 -2.868079\n",
            "99   841807.183743     0.579374 -3.096766\n",
            "100  893000.183743      0.06161  -3.62902\n",
            "\n",
            "[101 rows x 3 columns]\n"
          ]
        }
      ]
    },
    {
      "cell_type": "markdown",
      "source": [
        "For a moving average of order 2x10 it gives the formula:\n",
        "\n",
        "$$Y_t = \\frac{1}{20}X_{t-5}\\ + \\frac{1}{20}X_{t+5}\\ + \\frac{1}{10}\\sum_{i=-4}^{4} X_{t-i}$$\n"
      ],
      "metadata": {
        "id": "rMcZ-m_FMRQ6"
      }
    },
    {
      "cell_type": "markdown",
      "source": [
        "**Question 29**"
      ],
      "metadata": {
        "id": "oTeWSbQ9PNcT"
      }
    },
    {
      "cell_type": "code",
      "source": [
        "\n",
        "# Perform the ADF test on each column in the DataFrame\n",
        "for column in df.columns:\n",
        "    print(f\"Performing ADF Test for '{column}'...\")\n",
        "\n",
        "    # Determine the regression type based on the column\n",
        "    regression_type = \"ctt\" if column == \"realGDP\" else \"c\"\n",
        "\n",
        "    # Perform the ADF test\n",
        "    result = adfuller(df[column], maxlag=1, regression=regression_type)\n",
        "    adf_stat = result[0]\n",
        "    p_value = result[1]\n",
        "    crit_value_5 = result[4][\"5%\"]\n",
        "\n",
        "    # Print the results\n",
        "    print(f\"ADF Statistic: {adf_stat}\")\n",
        "    print(f\"p-value: {p_value}\")\n",
        "    print(f\"Critical Value at 5%: {crit_value_5}\")\n",
        "\n",
        "    # Interpretation\n",
        "    if adf_stat < crit_value_5:\n",
        "        print(\"Conclusion: Reject H0 - The time series is stationary.\\n\")\n",
        "    else:\n",
        "        print(\"Conclusion: Failed to Reject H0 - The time series is non-stationary.\\n\")"
      ],
      "metadata": {
        "id": "ZmhOU1a7PQJJ",
        "outputId": "a64ae45a-bdc3-4782-8381-3cdc95a0365e",
        "colab": {
          "base_uri": "https://localhost:8080/"
        }
      },
      "execution_count": null,
      "outputs": [
        {
          "output_type": "stream",
          "name": "stdout",
          "text": [
            "Performing ADF Test for 'realGDP'...\n",
            "ADF Statistic: -3.7862421043764902\n",
            "p-value: 0.0564774255916942\n",
            "Critical Value at 5%: -3.893439799803978\n",
            "Conclusion: Failed to Reject H0 - The time series is non-stationary.\n",
            "\n",
            "Performing ADF Test for 'unemployment'...\n",
            "ADF Statistic: -2.363202931618558\n",
            "p-value: 0.1523925094574955\n",
            "Critical Value at 5%: -2.891208211860468\n",
            "Conclusion: Failed to Reject H0 - The time series is non-stationary.\n",
            "\n",
            "Performing ADF Test for 'inflation'...\n",
            "ADF Statistic: -4.0503591672558334\n",
            "p-value: 0.001168599408868895\n",
            "Critical Value at 5%: -2.891208211860468\n",
            "Conclusion: Reject H0 - The time series is stationary.\n",
            "\n"
          ]
        }
      ]
    },
    {
      "cell_type": "markdown",
      "source": [
        "**Question 30**"
      ],
      "metadata": {
        "id": "HadjNCjhP4DG"
      }
    },
    {
      "cell_type": "code",
      "source": [
        "# Create a copy to store the transformed data\n",
        "df_stationary_2x10 = df.copy()\n",
        "\n",
        "for column in df.columns:\n",
        "    data = df[column].to_numpy()\n",
        "    n = len(data)\n",
        "    mavg = np.zeros(n)\n",
        "\n",
        "    for t in range(n):\n",
        "        if 5 <= t < n - 5:\n",
        "            mavg[t] = (\n",
        "                (1/20) * data[t - 5]\n",
        "                + (1/20) * data[t + 5]\n",
        "                + (1/10) * np.sum(data[t - 4 : t + 5])\n",
        "            )\n",
        "        else:\n",
        "            # Replace NaN with the mean of the column\n",
        "            mavg[t] = np.nanmean(data)\n",
        "\n",
        "    # Subtract the calculated moving average from the original data\n",
        "    df_stationary_2x10[column] = df[column] - mavg\n",
        "\n",
        "print(df_stationary_2x10)"
      ],
      "metadata": {
        "id": "WF-1kooQQMBL",
        "outputId": "d38ba357-a7ea-4159-ec5c-5a5a39a98a54",
        "colab": {
          "base_uri": "https://localhost:8080/"
        }
      },
      "execution_count": null,
      "outputs": [
        {
          "output_type": "stream",
          "name": "stdout",
          "text": [
            "           realGDP unemployment inflation\n",
            "0   -344015.551821    -1.717574 -0.367203\n",
            "1   -340201.286873    -0.520088 -4.725476\n",
            "2    -337419.26573    -0.251745 -4.425476\n",
            "3   -339160.048107     0.206068 -3.322166\n",
            "4   -337020.256998     1.517383 -4.822301\n",
            "..             ...          ...       ...\n",
            "96   718533.183743     2.699613 -2.025168\n",
            "97   757426.183743     1.574575  -2.60087\n",
            "98   798351.183743     0.858028 -2.868079\n",
            "99   841807.183743     0.579374 -3.096766\n",
            "100  893000.183743      0.06161  -3.62902\n",
            "\n",
            "[101 rows x 3 columns]\n"
          ]
        }
      ]
    },
    {
      "cell_type": "markdown",
      "source": [
        "**Question 31**\n",
        "\n",
        "The ACF (Autocorrelation Function) measures the correlation between values of a time series at different lags, taking into account all past dependencies, including the influence of intermediate lags. For example, the ACF at a lag of 2 considers the relationship between values at time $t$ and $t-2$, but also incorporates the effect of  $t-1$. It is useful for detecting the overall dependency structure of a series.\n",
        "\n",
        "On the other hand, the PACF (Partial Autocorrelation Function) measures the direct correlation between two values at a given lag, after removing the influence of intermediate lags. For example, the PACF at a lag of 2 measures the direct relationship between $t$ and $t-2$, controlling for the effect of $t-1$.\n",
        "\n",
        " So, the ACF shows the overall dependence structure of a series, while the PACF captures the direct dependencies between values at a specific lag."
      ],
      "metadata": {
        "id": "IlQjmAopGKxX"
      }
    },
    {
      "cell_type": "markdown",
      "source": [
        "**Question 32**"
      ],
      "metadata": {
        "id": "n193V8fbRDDi"
      }
    },
    {
      "cell_type": "markdown",
      "source": [
        "- GDP:\n",
        "\n",
        " The ACF (Autocorrelation Function) plot for GDP indicates that lag 1 is highly significant, while lags 2, 10, and 11 also show significance, though they are very close to the threshold. A slight seasonal pattern is also observable in the ACF plot.\n",
        "\n",
        " The PACF (Partial Autocorrelation Function) plot highlights lag 1 as the most significant, with lags 5 and 9 being marginally significant, near the significance threshold. Based on these observations, an MA(1) model appears to be a reasonable choice. Alternatively, an ARMA(1,1) model could be considered for modeling the GDP series.\n",
        "\n",
        "- Unemployment:\n",
        "\n",
        "  The ACF plot for the unemployment rate reveals minimal autocorrelation, indicating that the data behaves like white noise or a stationary random walk. As a result, models such as AutoRegressive (AR) or Moving Average (MA) are not suitable for predicting this series.\n",
        "\n",
        "- Inflation:\n",
        "\n",
        "  Similarly, the ACF plot for the inflation rate shows little to no significant autocorrelation, suggesting that the data resembles random noise or a stationary walk, much like the unemployment rate. Therefore, using models like AutoRegressive (AR) or Moving Average (MA) for forecasting inflation is not appropriate."
      ],
      "metadata": {
        "id": "WkTQnYRKAMH8"
      }
    },
    {
      "cell_type": "code",
      "source": [
        "from statsmodels.graphics.tsaplots import plot_acf, plot_pacf\n",
        "import numpy as np\n",
        "import matplotlib.pyplot as plt\n",
        "import pandas as pd  # Import pandas explicitly\n",
        "\n",
        "# Calculate the differences for each variable\n",
        "dl_GDP = np.diff(df[\"realGDP\"])\n",
        "dl_unemployment = np.diff(df[\"unemployment\"])\n",
        "dl_inflation = np.diff(df[\"inflation\"])\n",
        "\n",
        "# Adjust the indices for the differenced series to match the original series\n",
        "dl_GDP = pd.Series(dl_GDP, index=df.index[1:])  # Use pandas Series\n",
        "dl_unemployment = pd.Series(dl_unemployment, index=df.index[1:])\n",
        "dl_inflation = pd.Series(dl_inflation, index=df.index[1:])\n",
        "\n",
        "# Create the plots\n",
        "fig, axes = plt.subplots(nrows=3, ncols=2, figsize=(12, 10))\n",
        "\n",
        "plot_acf(dl_GDP, title=\"ACF of GDP\", ax=axes[0, 0], lags=20, zero=False)  # Add zero=False\n",
        "plot_pacf(dl_GDP, title=\"PACF of GDP\", ax=axes[0, 1], lags=20, zero=False)\n",
        "\n",
        "plot_acf(dl_unemployment, title=\"ACF of unemployment\", ax=axes[1, 0], lags=20, zero=False)\n",
        "plot_pacf(dl_unemployment, title=\"PACF of unemployment\", ax=axes[1, 1], lags=20, zero=False)\n",
        "\n",
        "plot_acf(dl_inflation, title=\"ACF of inflation\", ax=axes[2, 0], lags=20, zero=False)\n",
        "plot_pacf(dl_inflation, title=\"PACF of inflation\", ax=axes[2, 1], lags=20, zero=False)\n",
        "\n",
        "# Adjust the spacing between the plots\n",
        "plt.tight_layout()\n",
        "plt.show()"
      ],
      "metadata": {
        "id": "SSQLJeRsRCEW",
        "outputId": "5b2bfd62-3872-4170-8e09-6266d2384fa7",
        "colab": {
          "base_uri": "https://localhost:8080/",
          "height": 1000
        }
      },
      "execution_count": null,
      "outputs": [
        {
          "output_type": "display_data",
          "data": {
            "text/plain": [
              "<Figure size 1200x1000 with 6 Axes>"
            ],
            "image/png": "[encoded data removed]"
          },
          "metadata": {}
        }
      ]
    },
    {
      "cell_type": "markdown",
      "source": [
        "**Question 33**\n",
        "\n",
        "The principle of parsimony suggests that a model or theory should be as simple as possible while adequately explaining the data. It favors the idea that, among several possible explanations, the one requiring the fewest assumptions is generally considered as the best. This principle is linked to Ockham's razor, which states that when faced with multiple competing theories explaining the same phenomenon, the simplest one, requiring the least number of additional assumptions, is considered as the best one. Ockham's razor helps cut out unnecessary details.\n",
        "\n",
        "In econometrics, the information criterion (AIC and BIC that we have seen in the coourse) applies this principle by measuring the effectiveness of models. These criteria combine two elements: the quality of fit of the model to the data, and its complexity.\n",
        "\n",
        "Thus, these criteria measure a compromise between the quality of fit and model simplicity, following the principle of parsimony and Occam's razor."
      ],
      "metadata": {
        "id": "jt4i5VYBIXLm"
      }
    },
    {
      "cell_type": "markdown",
      "source": [
        "**Question 34**\n",
        "\n",
        "Autocorrelation of errors occurs when the errors (or residuals) in a regression model are correlated with each other, typically in time series data. This violates the assumption that errors are independent, leading to some problems such as inefficient parameter estimates, biased statistical tests (since standard errors may be underestimated), and less accurate predictions.\n",
        "\n",
        "For example, when the errors are autocorrelated, the estimates of the model's coefficients can still be okay, but they will generally be non-optimal.\n",
        "\n",
        "To address this issue, models like ARMA/ARIMA are used for time series data to account for autocorrelation in the errors."
      ],
      "metadata": {
        "id": "Yzx2FluQKwXK"
      }
    },
    {
      "cell_type": "code",
      "source": [
        "# Différencier les séries pour les rendre stationnaires\n",
        "gdp_diff = np.array(np.diff(df[\"realGDP\"]), dtype=float)\n",
        "unemp_diff = np.array(np.diff(df[\"unemployment\"]), dtype=float)\n",
        "infl_diff = np.array(np.diff(df[\"inflation\"]), dtype=float)\n",
        "\n",
        "# Définir la variable dépendante et les variables explicatives\n",
        "y_gdp = gdp_diff\n",
        "X_explanatory = np.column_stack((unemp_diff, infl_diff))\n",
        "X_explanatory = sm.add_constant(X_explanatory)\n",
        "\n",
        "# Régression principale\n",
        "main_model = sm.OLS(y_gdp, X_explanatory).fit()\n",
        "residuals_main = main_model.resid\n",
        "\n",
        "# Définir les résidus et leurs valeurs décalées\n",
        "residuals = residuals_main[1:]\n",
        "lagged_residuals = residuals_main[:-1]\n",
        "\n",
        "# Régression des résidus sur les résidus décalés (avec constante)\n",
        "X_residuals = sm.add_constant(lagged_residuals)\n",
        "residuals_model = sm.OLS(residuals, X_residuals).fit()\n",
        "p_value_autocorr = residuals_model.pvalues[1]\n",
        "\n",
        "# Tester l'hypothèse d'absence d'autocorrélation\n",
        "if p_value_autocorr < 0.05:\n",
        "    print(\n",
        "        \"Rejet de H0 - Il y a une autocorrélation dans les résidus\\np-value:\",\n",
        "        p_value_autocorr,\n",
        "    )\n",
        "else:\n",
        "    print(\n",
        "        \"Échec de rejet de H0 - Pas d'autocorrélation dans les résidus\\np-value:\",\n",
        "        p_value_autocorr,\n",
        "    )\n"
      ],
      "metadata": {
        "id": "8vIuJhVczgOe",
        "colab": {
          "base_uri": "https://localhost:8080/"
        },
        "outputId": "0b7b17a6-25a2-4b6d-bc55-bd3b064b68a2"
      },
      "execution_count": null,
      "outputs": [
        {
          "output_type": "stream",
          "name": "stdout",
          "text": [
            "Rejet de H0 - Il y a une autocorrélation dans les résidus\n",
            "p-value: 1.8834347632718846e-10\n"
          ]
        }
      ]
    },
    {
      "cell_type": "markdown",
      "source": [
        "**Question 36**"
      ],
      "metadata": {
        "id": "fZWfeIRe3vIA"
      }
    },
    {
      "cell_type": "code",
      "source": [
        "from scipy.linalg import toeplitz\n",
        "\n",
        "y = gdp_diff\n",
        "const = np.ones(len(y))\n",
        "X_0 = np.column_stack((const, unemp_diff, infl_diff ))\n",
        "\n",
        "# We first perform a regression with all variables\n",
        "model = sm.OLS(y, X_0).fit()\n",
        "residuals = model.resid\n",
        "\n",
        "n = len(residuals)\n",
        "y = residuals[1:n]\n",
        "lagged_residuals = residuals[0 : n - 1]\n",
        "const = np.ones(len(y))\n",
        "X_1 = np.column_stack((const, lagged_residuals))\n",
        "model = sm.OLS(y, X_1).fit()\n",
        "rho = model.params[1]\n",
        "\n",
        "# X_tilde = X - rho * np.column_stack((unemp_diff, infl_diff ) # X_tilde = (1 - rho) * X\n",
        "order = toeplitz(range(len(residuals)))\n",
        "sigma = rho**order\n",
        "\n",
        "# We perform a regression with the transformed variables (Feasible GLS of the AR(1) model)\n",
        "y = gdp_diff\n",
        "model = sm.GLS(y, X_0, sigma=sigma).fit()\n",
        "print(model.summary())\n",
        "residuals_gls = model.resid"
      ],
      "metadata": {
        "id": "vCRlj-RU3x9P",
        "colab": {
          "base_uri": "https://localhost:8080/"
        },
        "outputId": "dfe67162-df6b-4e59-fc46-07e693b15090"
      },
      "execution_count": null,
      "outputs": [
        {
          "output_type": "stream",
          "name": "stdout",
          "text": [
            "                            GLS Regression Results                            \n",
            "==============================================================================\n",
            "Dep. Variable:                      y   R-squared:                       0.253\n",
            "Model:                            GLS   Adj. R-squared:                  0.238\n",
            "Method:                 Least Squares   F-statistic:                     16.45\n",
            "Date:                Sun, 08 Dec 2024   Prob (F-statistic):           7.07e-07\n",
            "Time:                        22:37:30   Log-Likelihood:                -1078.5\n",
            "No. Observations:                 100   AIC:                             2163.\n",
            "Df Residuals:                      97   BIC:                             2171.\n",
            "Df Model:                           2                                         \n",
            "Covariance Type:            nonrobust                                         \n",
            "==============================================================================\n",
            "                 coef    std err          t      P>|t|      [0.025      0.975]\n",
            "------------------------------------------------------------------------------\n",
            "const       1.286e+04   2936.673      4.380      0.000    7033.037    1.87e+04\n",
            "x1         -4982.4478    869.715     -5.729      0.000   -6708.591   -3256.305\n",
            "x2          -872.4919    288.252     -3.027      0.003   -1444.592    -300.391\n",
            "==============================================================================\n",
            "Omnibus:                       11.992   Durbin-Watson:                   1.963\n",
            "Prob(Omnibus):                  0.002   Jarque-Bera (JB):               20.527\n",
            "Skew:                          -0.473   Prob(JB):                     3.49e-05\n",
            "Kurtosis:                       5.008   Cond. No.                         12.6\n",
            "==============================================================================\n",
            "\n",
            "Notes:\n",
            "[1] Standard Errors assume that the covariance matrix of the errors is correctly specified.\n"
          ]
        }
      ]
    },
    {
      "cell_type": "markdown",
      "source": [
        "As we can see, the Durbin-Watson statistic is now close to 2, which means that the autocorrelation of the errors has been corrected."
      ],
      "metadata": {
        "id": "9vmkCRXXFMwY"
      }
    },
    {
      "cell_type": "markdown",
      "source": [
        "**Question 37**"
      ],
      "metadata": {
        "id": "qRzGIGr45kvV"
      }
    },
    {
      "cell_type": "code",
      "source": [
        "n = df.shape[0]\n",
        "\n",
        "df_1 = np.array(df[1 : n - 1], dtype=float)\n",
        "df_2 = np.array(df[0 : n - 2], dtype=float)\n",
        "\n",
        "print(\"lag 1: \", df_1)\n",
        "print(\"lag 2: \", df_2)"
      ],
      "metadata": {
        "id": "gVqmYUHq5m-H",
        "outputId": "82a81ae3-5fc0-4d9c-ec6d-3cc45459e8a1",
        "colab": {
          "base_uri": "https://localhost:8080/"
        }
      },
      "execution_count": null,
      "outputs": [
        {
          "output_type": "stream",
          "name": "stdout",
          "text": [
            "lag 1:  [[ 1.84974529e+05  4.87735081e+00 -3.00000000e-01]\n",
            " [ 1.87756551e+05  5.14569424e+00  0.00000000e+00]\n",
            " [ 1.86015768e+05  5.60350698e+00  1.10330993e+00]\n",
            " [ 1.88155559e+05  6.91482147e+00 -3.96825397e-01]\n",
            " [ 1.93665734e+05  6.48319831e+00  3.98406375e-01]\n",
            " [ 1.98524153e+05  5.18036906e+00 -9.92063492e-02]\n",
            " [ 2.02300112e+05  4.40135579e+00  1.58887786e+00]\n",
            " [ 1.94777086e+05  7.10573704e+00  1.27077224e+00]\n",
            " [ 1.99383307e+05  7.54128620e+00  1.93050193e-01]\n",
            " [ 2.04633217e+05  5.79390638e+00  2.11946050e+00]\n",
            " [ 2.11384784e+05  4.74742084e+00  2.83018868e-01]\n",
            " [ 2.14508404e+05  3.96671031e+00  2.82220132e+00]\n",
            " [ 2.23344587e+05  3.62057245e+00  6.40439158e-01]\n",
            " [ 2.27790457e+05  3.15638451e+00  2.54545455e+00]\n",
            " [ 2.40295540e+05  9.48316738e-01  1.25000000e+01]\n",
            " [ 2.42999513e+05  3.29102022e-01  1.81000000e+01]\n",
            " [ 2.41402923e+05  4.66200466e-01  2.52000000e+01]\n",
            " [ 2.46001108e+05  6.47249191e-01  2.20000000e+01]\n",
            " [ 2.26744357e+05  3.02474794e+00  1.01000000e+01]\n",
            " [ 2.13407661e+05  1.95454545e+00  1.54000000e+01]\n",
            " [ 1.92683863e+05  1.10237823e+01 -8.60000000e+00]\n",
            " [ 2.02913931e+05  9.67571486e+00 -1.40000000e+01]\n",
            " [ 2.08925415e+05  7.98751845e+00 -6.00000000e+00]\n",
            " [ 2.18786357e+05  7.11740762e+00 -7.00000000e-01]\n",
            " [ 2.26485274e+05  7.75982983e+00  3.00000000e-01]\n",
            " [ 2.19419144e+05  8.66688967e+00 -8.00000000e-01]\n",
            " [ 2.36293484e+05  6.71361293e+00 -2.40000000e+00]\n",
            " [ 2.38402776e+05  7.42682717e+00 -3.00000000e-01]\n",
            " [ 2.45205244e+05  7.18350100e+00 -9.00000000e-01]\n",
            " [ 2.43254149e+05  1.10981272e+01 -2.80000000e+00]\n",
            " [ 2.31969434e+05  1.48762055e+01 -4.30000000e+00]\n",
            " [ 2.32127631e+05  1.53872984e+01 -2.60000000e+00]\n",
            " [ 2.39510155e+05  1.39273721e+01 -2.10000000e+00]\n",
            " [ 2.53800611e+05  1.17341114e+01  0.00000000e+00]\n",
            " [ 2.63186962e+05  1.08730308e+01  7.00000000e-01]\n",
            " [ 2.75737252e+05  9.24811309e+00  7.00000000e-01]\n",
            " [ 2.85387265e+05  7.69656442e+00  3.40000000e+00]\n",
            " [ 2.87602022e+05  9.20182774e+00  1.60000000e+00]\n",
            " [ 3.00257776e+05  5.68461587e+00  2.80000000e+00]\n",
            " [ 3.30051532e+05  2.99073700e+00  1.68000000e+01]\n",
            " [ 3.58790641e+05  1.03403039e+00  1.08000000e+01]\n",
            " [ 3.65223983e+05  4.42926614e-01  7.10000000e+00]\n",
            " [ 3.71499128e+05  3.19946153e-01  3.40000000e+00]\n",
            " [ 3.55152112e+05  2.83456847e-01  2.70000000e+00]\n",
            " [ 3.38910560e+05  4.12768875e-01  2.80000000e+00]\n",
            " [ 3.30578855e+05  1.71451074e+00  3.10000000e+00]\n",
            " [ 3.26360270e+05  1.28589976e+00  7.00000000e+00]\n",
            " [ 3.36854000e+05  1.28788104e+00  7.70000000e+00]\n",
            " [ 3.48243000e+05  1.15929593e+00  2.80000000e+00]\n",
            " [ 3.59774000e+05  1.44696668e+00  3.91849530e+00]\n",
            " [ 3.73254000e+05  1.17941008e+00  9.04977376e+00]\n",
            " [ 3.79199000e+05  1.92487779e+00  1.06500692e+01]\n",
            " [ 4.00153000e+05  1.57952407e+00  3.62500000e+00]\n",
            " [ 4.17347000e+05  1.30618890e+00  2.29191797e+00]\n",
            " [ 4.33302000e+05  1.07797492e+00  5.07075472e+00]\n",
            " [ 4.40315000e+05  1.15882385e+00  5.16273850e+00]\n",
            " [ 4.48743000e+05  1.39638576e+00  3.84204909e+00]\n",
            " [ 4.54426000e+05  2.02357918e+00  2.87769784e+00]\n",
            " [ 4.73093000e+05  2.11202089e+00  5.99400599e-01]\n",
            " [ 5.02799000e+05  1.59998886e+00  7.94438928e-01]\n",
            " [ 5.16253000e+05  1.51887220e+00  3.25123153e+00]\n",
            " [ 5.21906000e+05  1.99117374e+00  4.19847328e+00]\n",
            " [ 5.47364000e+05  2.42522286e+00  2.10622711e+00]\n",
            " [ 5.77677000e+05  1.63160865e+00  3.22869955e+00]\n",
            " [ 5.89975000e+05  1.40854508e+00  4.25716768e+00]\n",
            " [ 5.99211000e+05  1.51988632e+00  4.00000000e+00]\n",
            " [ 6.15879000e+05  2.34347372e+00  2.24358974e+00]\n",
            " [ 6.49439000e+05  2.36583501e+00  3.99686520e+00]\n",
            " [ 6.61919000e+05  2.28596779e+00  5.19969857e+00]\n",
            " [ 6.79900000e+05  2.43837319e+00  6.51862464e+00]\n",
            " [ 7.03556000e+05  4.13847057e+00  9.41492939e+00]\n",
            " [ 7.33770000e+05  4.34325744e+00  7.19114935e+00]\n",
            " [ 7.81583000e+05  3.65095905e+00  9.34633028e+00]\n",
            " [ 7.62257000e+05  3.64938215e+00  1.57315155e+01]\n",
            " [ 7.50912000e+05  4.49687823e+00  2.27004984e+01]\n",
            " [ 7.72852000e+05  5.39694656e+00  1.56573117e+01]\n",
            " [ 7.91889000e+05  5.59382016e+00  1.49425287e+01]\n",
            " [ 8.25111000e+05  5.50524760e+00  7.47222222e+00]\n",
            " [ 8.55933000e+05  5.37799977e+00  1.13724477e+01]\n",
            " [ 8.38462000e+05  6.80931684e+00  1.51543282e+01]\n",
            " [ 8.31931000e+05  9.64902548e+00  1.18097541e+01]\n",
            " [ 8.48700000e+05  1.07172146e+01  8.11103100e+00]\n",
            " [ 8.84520000e+05  1.14722967e+01  4.93497833e+00]\n",
            " [ 9.04639000e+05  1.17743225e+01  4.25802351e+00]\n",
            " [ 9.42519000e+05  1.13578200e+01  4.92227979e+00]\n",
            " [ 9.72239000e+05  1.13237297e+01  3.32607117e+00]\n",
            " [ 1.02434600e+06  1.04333014e+01  3.20494799e+00]\n",
            " [ 1.08362900e+06  8.57443451e+00  3.75919368e+00]\n",
            " [ 1.11161800e+06  7.22139364e+00  5.23759517e+00]\n",
            " [ 1.11958700e+06  7.09791177e+00  6.97268305e+00]\n",
            " [ 1.10705900e+06  8.81778893e+00  7.53264925e+00]\n",
            " [ 1.11104300e+06  9.94993301e+00  4.26154847e+00]\n",
            " [ 1.13889700e+06  1.03747521e+01  2.50650026e+00]\n",
            " [ 1.18314400e+06  9.49609652e+00  1.97849026e+00]\n",
            " [ 1.21279800e+06  8.62178807e+00  2.65645209e+00]\n",
            " [ 1.24370900e+06  8.09705177e+00  2.40030843e+00]\n",
            " [ 1.28260200e+06  6.97201375e+00  1.82460627e+00]\n",
            " [ 1.32352700e+06  6.25546654e+00  1.55739752e+00]\n",
            " [ 1.36698300e+06  5.97681260e+00  1.32871031e+00]]\n",
            "lag 2:  [[ 1.81160264e+05  3.67986480e+00  4.05827263e+00]\n",
            " [ 1.84974529e+05  4.87735081e+00 -3.00000000e-01]\n",
            " [ 1.87756551e+05  5.14569424e+00  0.00000000e+00]\n",
            " [ 1.86015768e+05  5.60350698e+00  1.10330993e+00]\n",
            " [ 1.88155559e+05  6.91482147e+00 -3.96825397e-01]\n",
            " [ 1.93665734e+05  6.48319831e+00  3.98406375e-01]\n",
            " [ 1.98524153e+05  5.18036906e+00 -9.92063492e-02]\n",
            " [ 2.02300112e+05  4.40135579e+00  1.58887786e+00]\n",
            " [ 1.94777086e+05  7.10573704e+00  1.27077224e+00]\n",
            " [ 1.99383307e+05  7.54128620e+00  1.93050193e-01]\n",
            " [ 2.04633217e+05  5.79390638e+00  2.11946050e+00]\n",
            " [ 2.11384784e+05  4.74742084e+00  2.83018868e-01]\n",
            " [ 2.14508404e+05  3.96671031e+00  2.82220132e+00]\n",
            " [ 2.23344587e+05  3.62057245e+00  6.40439158e-01]\n",
            " [ 2.27790457e+05  3.15638451e+00  2.54545455e+00]\n",
            " [ 2.40295540e+05  9.48316738e-01  1.25000000e+01]\n",
            " [ 2.42999513e+05  3.29102022e-01  1.81000000e+01]\n",
            " [ 2.41402923e+05  4.66200466e-01  2.52000000e+01]\n",
            " [ 2.46001108e+05  6.47249191e-01  2.20000000e+01]\n",
            " [ 2.26744357e+05  3.02474794e+00  1.01000000e+01]\n",
            " [ 2.13407661e+05  1.95454545e+00  1.54000000e+01]\n",
            " [ 1.92683863e+05  1.10237823e+01 -8.60000000e+00]\n",
            " [ 2.02913931e+05  9.67571486e+00 -1.40000000e+01]\n",
            " [ 2.08925415e+05  7.98751845e+00 -6.00000000e+00]\n",
            " [ 2.18786357e+05  7.11740762e+00 -7.00000000e-01]\n",
            " [ 2.26485274e+05  7.75982983e+00  3.00000000e-01]\n",
            " [ 2.19419144e+05  8.66688967e+00 -8.00000000e-01]\n",
            " [ 2.36293484e+05  6.71361293e+00 -2.40000000e+00]\n",
            " [ 2.38402776e+05  7.42682717e+00 -3.00000000e-01]\n",
            " [ 2.45205244e+05  7.18350100e+00 -9.00000000e-01]\n",
            " [ 2.43254149e+05  1.10981272e+01 -2.80000000e+00]\n",
            " [ 2.31969434e+05  1.48762055e+01 -4.30000000e+00]\n",
            " [ 2.32127631e+05  1.53872984e+01 -2.60000000e+00]\n",
            " [ 2.39510155e+05  1.39273721e+01 -2.10000000e+00]\n",
            " [ 2.53800611e+05  1.17341114e+01  0.00000000e+00]\n",
            " [ 2.63186962e+05  1.08730308e+01  7.00000000e-01]\n",
            " [ 2.75737252e+05  9.24811309e+00  7.00000000e-01]\n",
            " [ 2.85387265e+05  7.69656442e+00  3.40000000e+00]\n",
            " [ 2.87602022e+05  9.20182774e+00  1.60000000e+00]\n",
            " [ 3.00257776e+05  5.68461587e+00  2.80000000e+00]\n",
            " [ 3.30051532e+05  2.99073700e+00  1.68000000e+01]\n",
            " [ 3.58790641e+05  1.03403039e+00  1.08000000e+01]\n",
            " [ 3.65223983e+05  4.42926614e-01  7.10000000e+00]\n",
            " [ 3.71499128e+05  3.19946153e-01  3.40000000e+00]\n",
            " [ 3.55152112e+05  2.83456847e-01  2.70000000e+00]\n",
            " [ 3.38910560e+05  4.12768875e-01  2.80000000e+00]\n",
            " [ 3.30578855e+05  1.71451074e+00  3.10000000e+00]\n",
            " [ 3.26360270e+05  1.28589976e+00  7.00000000e+00]\n",
            " [ 3.36854000e+05  1.28788104e+00  7.70000000e+00]\n",
            " [ 3.48243000e+05  1.15929593e+00  2.80000000e+00]\n",
            " [ 3.59774000e+05  1.44696668e+00  3.91849530e+00]\n",
            " [ 3.73254000e+05  1.17941008e+00  9.04977376e+00]\n",
            " [ 3.79199000e+05  1.92487779e+00  1.06500692e+01]\n",
            " [ 4.00153000e+05  1.57952407e+00  3.62500000e+00]\n",
            " [ 4.17347000e+05  1.30618890e+00  2.29191797e+00]\n",
            " [ 4.33302000e+05  1.07797492e+00  5.07075472e+00]\n",
            " [ 4.40315000e+05  1.15882385e+00  5.16273850e+00]\n",
            " [ 4.48743000e+05  1.39638576e+00  3.84204909e+00]\n",
            " [ 4.54426000e+05  2.02357918e+00  2.87769784e+00]\n",
            " [ 4.73093000e+05  2.11202089e+00  5.99400599e-01]\n",
            " [ 5.02799000e+05  1.59998886e+00  7.94438928e-01]\n",
            " [ 5.16253000e+05  1.51887220e+00  3.25123153e+00]\n",
            " [ 5.21906000e+05  1.99117374e+00  4.19847328e+00]\n",
            " [ 5.47364000e+05  2.42522286e+00  2.10622711e+00]\n",
            " [ 5.77677000e+05  1.63160865e+00  3.22869955e+00]\n",
            " [ 5.89975000e+05  1.40854508e+00  4.25716768e+00]\n",
            " [ 5.99211000e+05  1.51988632e+00  4.00000000e+00]\n",
            " [ 6.15879000e+05  2.34347372e+00  2.24358974e+00]\n",
            " [ 6.49439000e+05  2.36583501e+00  3.99686520e+00]\n",
            " [ 6.61919000e+05  2.28596779e+00  5.19969857e+00]\n",
            " [ 6.79900000e+05  2.43837319e+00  6.51862464e+00]\n",
            " [ 7.03556000e+05  4.13847057e+00  9.41492939e+00]\n",
            " [ 7.33770000e+05  4.34325744e+00  7.19114935e+00]\n",
            " [ 7.81583000e+05  3.65095905e+00  9.34633028e+00]\n",
            " [ 7.62257000e+05  3.64938215e+00  1.57315155e+01]\n",
            " [ 7.50912000e+05  4.49687823e+00  2.27004984e+01]\n",
            " [ 7.72852000e+05  5.39694656e+00  1.56573117e+01]\n",
            " [ 7.91889000e+05  5.59382016e+00  1.49425287e+01]\n",
            " [ 8.25111000e+05  5.50524760e+00  7.47222222e+00]\n",
            " [ 8.55933000e+05  5.37799977e+00  1.13724477e+01]\n",
            " [ 8.38462000e+05  6.80931684e+00  1.51543282e+01]\n",
            " [ 8.31931000e+05  9.64902548e+00  1.18097541e+01]\n",
            " [ 8.48700000e+05  1.07172146e+01  8.11103100e+00]\n",
            " [ 8.84520000e+05  1.14722967e+01  4.93497833e+00]\n",
            " [ 9.04639000e+05  1.17743225e+01  4.25802351e+00]\n",
            " [ 9.42519000e+05  1.13578200e+01  4.92227979e+00]\n",
            " [ 9.72239000e+05  1.13237297e+01  3.32607117e+00]\n",
            " [ 1.02434600e+06  1.04333014e+01  3.20494799e+00]\n",
            " [ 1.08362900e+06  8.57443451e+00  3.75919368e+00]\n",
            " [ 1.11161800e+06  7.22139364e+00  5.23759517e+00]\n",
            " [ 1.11958700e+06  7.09791177e+00  6.97268305e+00]\n",
            " [ 1.10705900e+06  8.81778893e+00  7.53264925e+00]\n",
            " [ 1.11104300e+06  9.94993301e+00  4.26154847e+00]\n",
            " [ 1.13889700e+06  1.03747521e+01  2.50650026e+00]\n",
            " [ 1.18314400e+06  9.49609652e+00  1.97849026e+00]\n",
            " [ 1.21279800e+06  8.62178807e+00  2.65645209e+00]\n",
            " [ 1.24370900e+06  8.09705177e+00  2.40030843e+00]\n",
            " [ 1.28260200e+06  6.97201375e+00  1.82460627e+00]\n",
            " [ 1.32352700e+06  6.25546654e+00  1.55739752e+00]]\n"
          ]
        }
      ]
    },
    {
      "cell_type": "markdown",
      "source": [
        "**Question 38**"
      ],
      "metadata": {
        "id": "WLGcIItx6DDv"
      }
    },
    {
      "cell_type": "code",
      "source": [
        "y = np.array(realGDP[2:], dtype=float)  # Exclude first two observations\n",
        "un_1 = df_1[:, 1]  # Lag 1 of unemployment\n",
        "un_2 = df_1[:, 2]  # Lag 2 of unemployment\n",
        "inf_1 = df_2[:, 1]  # Lag 1 of inflation\n",
        "inf_2 = df_2[:, 2]  # Lag 2 of inflation\n",
        "\n",
        "# Combine independent variables and add constant\n",
        "X = np.column_stack((un_1, un_2, inf_1, inf_2))\n",
        "X = sm.add_constant(X)\n",
        "\n",
        "# Run the regression\n",
        "model = sm.OLS(y, X).fit()\n",
        "\n",
        "# Output results\n",
        "print(model.summary())\n",
        "print(\"\\nNumber of observations:\", int(model.nobs))\n"
      ],
      "metadata": {
        "id": "n5tASut-6FC6",
        "outputId": "8a3cb12d-bab1-413b-9147-63693fb8e7a9",
        "colab": {
          "base_uri": "https://localhost:8080/"
        }
      },
      "execution_count": null,
      "outputs": [
        {
          "output_type": "stream",
          "name": "stdout",
          "text": [
            "                            OLS Regression Results                            \n",
            "==============================================================================\n",
            "Dep. Variable:                      y   R-squared:                       0.184\n",
            "Model:                            OLS   Adj. R-squared:                  0.149\n",
            "Method:                 Least Squares   F-statistic:                     5.302\n",
            "Date:                Sun, 08 Dec 2024   Prob (F-statistic):           0.000679\n",
            "Time:                        22:37:30   Log-Likelihood:                -1393.3\n",
            "No. Observations:                  99   AIC:                             2797.\n",
            "Df Residuals:                      94   BIC:                             2810.\n",
            "Df Model:                           4                                         \n",
            "Covariance Type:            nonrobust                                         \n",
            "==============================================================================\n",
            "                 coef    std err          t      P>|t|      [0.025      0.975]\n",
            "------------------------------------------------------------------------------\n",
            "const       2.279e+05   7.49e+04      3.040      0.003    7.91e+04    3.77e+05\n",
            "x1         -7161.6755   2.62e+04     -0.273      0.785   -5.92e+04    4.49e+04\n",
            "x2          7013.9974   9370.422      0.749      0.456   -1.16e+04    2.56e+04\n",
            "x3          4.446e+04   2.63e+04      1.688      0.095   -7833.843    9.68e+04\n",
            "x4          1.602e+04   9676.956      1.656      0.101   -3192.086    3.52e+04\n",
            "==============================================================================\n",
            "Omnibus:                        6.008   Durbin-Watson:                   0.048\n",
            "Prob(Omnibus):                  0.050   Jarque-Bera (JB):                5.931\n",
            "Skew:                           0.599   Prob(JB):                       0.0515\n",
            "Kurtosis:                       2.984   Cond. No.                         26.5\n",
            "==============================================================================\n",
            "\n",
            "Notes:\n",
            "[1] Standard Errors assume that the covariance matrix of the errors is correctly specified.\n",
            "\n",
            "Number of observations: 99\n"
          ]
        }
      ]
    },
    {
      "cell_type": "markdown",
      "source": [
        "\n",
        "The number of observations is 99, beacause we have to drop the first two observations, since we don't have the lagged values for them."
      ],
      "metadata": {
        "id": "p-6IQr9TXlqo"
      }
    },
    {
      "cell_type": "markdown",
      "source": [
        "**Question 39**"
      ],
      "metadata": {
        "id": "rYcP9ItE7S7V"
      }
    },
    {
      "cell_type": "markdown",
      "source": [
        "For this model :\n",
        "$$y_t = \\delta{_0} + \\alpha{_1} y_{t-1} + + \\alpha{_2} y_{t-2} + \\gamma{_1} z_{t-1} + \\gamma{_2} z_{t-2}$$\n",
        "\n",
        "Where $y_t$ is the GDP and $z_t$ is the inflation, then the no-Granger causality hypothesis of inflation on GDP is:\n",
        "\n",
        "$$H_0: \\gamma{_1} = \\gamma{_2} = 0$$"
      ],
      "metadata": {
        "id": "t376v3tpYIh3"
      }
    },
    {
      "cell_type": "code",
      "source": [
        "from scipy.stats import f\n",
        "import numpy as np\n",
        "import statsmodels.api as sm\n",
        "\n",
        "n = len(df)\n",
        "\n",
        "# Non restricted model\n",
        "gdp = np.array(df[\"realGDP\"][2:n], dtype=float)\n",
        "gdp_1 = np.array(df[\"realGDP\"][1:n-1], dtype=float)\n",
        "gdp_2 = np.array(df[\"realGDP\"][0:n-2], dtype=float)\n",
        "inflation_1 = np.array(df[\"inflation\"][1:n-1], dtype=float)\n",
        "inflation_2 = np.array(df[\"inflation\"][0:n-2], dtype=float)\n",
        "const = np.ones(n - 2)\n",
        "X_ur = np.column_stack((const, gdp_1, gdp_2, inflation_1, inflation_2))\n",
        "\n",
        "model = sm.OLS(gdp, X_ur)\n",
        "results_ur = model.fit()\n",
        "\n",
        "k_ur = X_ur.shape[1]\n",
        "SSR_ur = results_ur.ssr\n",
        "\n",
        "# Restricted model\n",
        "X_r = np.column_stack((const, gdp_1, gdp_2))\n",
        "\n",
        "model = sm.OLS(gdp, X_r)\n",
        "results_r = model.fit()\n",
        "\n",
        "k_r = X_r.shape[1]\n",
        "SSR_r = results_r.ssr\n",
        "\n",
        "F_stat = ((SSR_r - SSR_ur) / SSR_ur) * ((n - 2 - k_ur) / (k_ur - k_r))\n",
        "p_value = 1 - f.cdf(F_stat, k_ur - k_r, n - 2 - k_ur)\n",
        "\n",
        "print(f\"F-statistic: {F_stat}\\np-value: {p_value}\\n\")\n",
        "\n",
        "if p_value < 0.01:\n",
        "    print(\"Reject H0 - Inflation Granger causes GDP\\n\")\n",
        "else:\n",
        "    print(\"Failed to Reject H0 - Inflation does not Granger cause GDP\\n\")\n"
      ],
      "metadata": {
        "id": "NnonnNSb7V5F",
        "outputId": "5acd8242-437e-4439-828c-95a87aa2b3a0",
        "colab": {
          "base_uri": "https://localhost:8080/"
        }
      },
      "execution_count": null,
      "outputs": [
        {
          "output_type": "stream",
          "name": "stdout",
          "text": [
            "F-statistic: 1.9765913064730172\n",
            "p-value: 0.1442571036794842\n",
            "\n",
            "Failed to Reject H0 - Inflation does not Granger cause GDP\n",
            "\n"
          ]
        }
      ]
    },
    {
      "cell_type": "markdown",
      "source": [
        "**Question 40**"
      ],
      "metadata": {
        "id": "nfzVAuAP8MOg"
      }
    },
    {
      "cell_type": "code",
      "source": [
        "from scipy.stats import f\n",
        "import numpy as np\n",
        "import statsmodels.api as sm\n",
        "\n",
        "n = len(df)\n",
        "\n",
        "# Divide the sample\n",
        "gdp = np.array(df[\"realGDP\"], dtype=float)\n",
        "unemp = np.array(df[\"unemployment\"], dtype=float)\n",
        "infl = np.array(df[\"inflation\"], dtype=float)\n",
        "\n",
        "\n",
        "df_sub1 = df[0:61].reset_index(drop=True)\n",
        "gdp_sub1 = np.array(df_sub1[\"realGDP\"], dtype=float)\n",
        "unemp_sub1 = np.array(df_sub1[\"unemployment\"], dtype=float)\n",
        "infl_sub1 = np.array(df_sub1[\"inflation\"], dtype=float)\n",
        "\n",
        "df_sub2 = df[61:n].reset_index(drop=True)\n",
        "gdp_sub2 = np.array(df_sub2[\"realGDP\"], dtype=float)\n",
        "unemp_sub2 = np.array(df_sub2[\"unemployment\"], dtype=float)\n",
        "infl_sub2 = np.array(df_sub2[\"inflation\"], dtype=float)\n",
        "\n",
        "# Full model\n",
        "X_full = np.column_stack((unemp, infl))\n",
        "X_full = sm.add_constant(X_full)\n",
        "y_full = gdp\n",
        "\n",
        "model_full = sm.OLS(y_full, X_full).fit()\n",
        "SSR_full = model_full.ssr\n",
        "k = model_full.df_model + 1\n",
        "\n",
        "# First period model\n",
        "X_sub1 = np.column_stack((unemp_sub1, infl_sub1))\n",
        "X_sub1 = sm.add_constant(X_sub1)\n",
        "y_sub1 = gdp_sub1\n",
        "\n",
        "model_sub1 = sm.OLS(y_sub1, X_sub1).fit()\n",
        "SSR_sub1 = model_sub1.ssr\n",
        "n_sub1 = model_sub1.nobs\n",
        "\n",
        "# Second period model\n",
        "X_sub2 = np.column_stack((unemp_sub2, infl_sub2))\n",
        "X_sub2 = sm.add_constant(X_sub2)\n",
        "y_sub2 = gdp_sub2\n",
        "\n",
        "model_sub2 = sm.OLS(y_sub2, X_sub2).fit()\n",
        "SSR_sub2 = model_sub2.ssr\n",
        "n_sub2 = model_sub2.nobs\n",
        "\n",
        "alpha = 0.05\n",
        "\n",
        "# Chow test\n",
        "chow_stat = (\n",
        "    (SSR_full - (SSR_sub1 + SSR_sub2))\n",
        "    / (SSR_sub1 + SSR_sub2)\n",
        "    * (n_sub1 + n_sub2 - 2 * k)\n",
        "    / k\n",
        ")\n",
        "critical_val = f.ppf(1 - alpha, k, n_sub1 + n_sub2 - 2 * k)\n",
        "p_val = 1 - f.cdf(chow_stat, k, n_sub1 + n_sub2 - 2 * k)\n",
        "\n",
        "print(\"Chow Statistic:\", chow_stat)\n",
        "print(\"Critical Value:\", critical_val)\n",
        "print(\"P-value:\", p_val)\n",
        "\n",
        "if p_val < 0.05:\n",
        "    print(\"Reject the null hypothesis. Coefficients are significantly different between the two periods.\")\n",
        "else:\n",
        "    print(\"Fail to reject the null hypothesis. Coefficients are not significantly different between the two periods.\")\n"
      ],
      "metadata": {
        "id": "44DzHDQE8OwW",
        "outputId": "b9e18ba4-80f5-48ca-9d31-4dc931f1221a",
        "colab": {
          "base_uri": "https://localhost:8080/"
        }
      },
      "execution_count": null,
      "outputs": [
        {
          "output_type": "stream",
          "name": "stdout",
          "text": [
            "Chow Statistic: 166.09124120261302\n",
            "Critical Value: 2.7004090629698054\n",
            "P-value: 1.1102230246251565e-16\n",
            "Reject the null hypothesis. Coefficients are significantly different between the two periods.\n"
          ]
        }
      ]
    },
    {
      "cell_type": "markdown",
      "source": [
        "**Question 41**"
      ],
      "metadata": {
        "id": "T0qH1ADr9AMX"
      }
    },
    {
      "cell_type": "code",
      "source": [
        "from scipy.stats import f\n",
        "import numpy as np\n",
        "import statsmodels.api as sm\n",
        "\n",
        "# Define significance level and trim ratio\n",
        "alpha = 0.01  # 1% significance level\n",
        "trim_ratio = 0.30  # 30% trimming at the ends\n",
        "\n",
        "n = len(df)\n",
        "\n",
        "# Sort the data by realGDP (or any other variable)\n",
        "df_sorted = df.sort_values(by=\"realGDP\").reset_index(drop=True)\n",
        "\n",
        "# Trim the data by removing 30% from both ends\n",
        "trim_start = int(trim_ratio * n)\n",
        "trim_end = n - trim_start\n",
        "\n",
        "df_trimmed = df_sorted[trim_start:trim_end].reset_index(drop=True)\n",
        "\n",
        "# Extract the variables\n",
        "gdp_trimmed = np.array(df_trimmed[\"realGDP\"], dtype=float)\n",
        "unemp_trimmed = np.array(df_trimmed[\"unemployment\"], dtype=float)\n",
        "infl_trimmed = np.array(df_trimmed[\"inflation\"], dtype=float)\n",
        "\n",
        "# Split the trimmed data into two sub-periods based on a break point\n",
        "breakpoint = len(df_trimmed) // 2  # midpoint as the breakpoint for simplicity\n",
        "\n",
        "df_sub1_trimmed = df_trimmed[0:breakpoint].reset_index(drop=True)\n",
        "gdp_sub1_trimmed = np.array(df_sub1_trimmed[\"realGDP\"], dtype=float)\n",
        "unemp_sub1_trimmed = np.array(df_sub1_trimmed[\"unemployment\"], dtype=float)\n",
        "infl_sub1_trimmed = np.array(df_sub1_trimmed[\"inflation\"], dtype=float)\n",
        "\n",
        "df_sub2_trimmed = df_trimmed[breakpoint:].reset_index(drop=True)\n",
        "gdp_sub2_trimmed = np.array(df_sub2_trimmed[\"realGDP\"], dtype=float)\n",
        "unemp_sub2_trimmed = np.array(df_sub2_trimmed[\"unemployment\"], dtype=float)\n",
        "infl_sub2_trimmed = np.array(df_sub2_trimmed[\"inflation\"], dtype=float)\n",
        "\n",
        "# Full model\n",
        "X_full_trimmed = np.column_stack((unemp_trimmed, infl_trimmed))\n",
        "X_full_trimmed = sm.add_constant(X_full_trimmed)\n",
        "y_full_trimmed = gdp_trimmed\n",
        "\n",
        "model_full_trimmed = sm.OLS(y_full_trimmed, X_full_trimmed).fit()\n",
        "SSR_full_trimmed = model_full_trimmed.ssr\n",
        "k = model_full_trimmed.df_model + 1\n",
        "\n",
        "# First period model\n",
        "X_sub1_trimmed = np.column_stack((unemp_sub1_trimmed, infl_sub1_trimmed))\n",
        "X_sub1_trimmed = sm.add_constant(X_sub1_trimmed)\n",
        "y_sub1_trimmed = gdp_sub1_trimmed\n",
        "\n",
        "model_sub1_trimmed = sm.OLS(y_sub1_trimmed, X_sub1_trimmed).fit()\n",
        "SSR_sub1_trimmed = model_sub1_trimmed.ssr\n",
        "n_sub1_trimmed = model_sub1_trimmed.nobs\n",
        "\n",
        "# Second period model\n",
        "X_sub2_trimmed = np.column_stack((unemp_sub2_trimmed, infl_sub2_trimmed))\n",
        "X_sub2_trimmed = sm.add_constant(X_sub2_trimmed)\n",
        "y_sub2_trimmed = gdp_sub2_trimmed\n",
        "\n",
        "model_sub2_trimmed = sm.OLS(y_sub2_trimmed, X_sub2_trimmed).fit()\n",
        "SSR_sub2_trimmed = model_sub2_trimmed.ssr\n",
        "n_sub2_trimmed = model_sub2_trimmed.nobs\n",
        "\n",
        "# Chow test\n",
        "chow_stat_trimmed = (\n",
        "    (SSR_full_trimmed - (SSR_sub1_trimmed + SSR_sub2_trimmed))\n",
        "    / (SSR_sub1_trimmed + SSR_sub2_trimmed)\n",
        "    * (n_sub1_trimmed + n_sub2_trimmed - 2 * k)\n",
        "    / k\n",
        ")\n",
        "\n",
        "# F\n",
        "critical_val_trimmed = f.ppf(1 - alpha, k, n_sub1_trimmed + n_sub2_trimmed - 2 * k)\n",
        "\n",
        "# P-value\n",
        "p_val_trimmed = 1 - f.cdf(chow_stat_trimmed, k, n_sub1_trimmed + n_sub2_trimmed - 2 * k)\n",
        "\n",
        "print(\"P-value (Trimmed):\", p_val_trimmed)\n",
        "\n",
        "if p_val_trimmed < alpha:\n",
        "    print(\"Reject the null hypothesis. Coefficients are significantly different between the two sub-samples.\")\n",
        "else:\n",
        "    print(\"Fail to reject the null hypothesis. Coefficients are not significantly different between the two sub-samples.\")\n"
      ],
      "metadata": {
        "id": "mp9HqGtC9DUY",
        "outputId": "6dc93ae4-2458-40d4-c90f-6df82860623f",
        "colab": {
          "base_uri": "https://localhost:8080/"
        }
      },
      "execution_count": 804,
      "outputs": [
        {
          "output_type": "stream",
          "name": "stdout",
          "text": [
            "P-value (Trimmed): 5.85838266786709e-10\n",
            "Reject the null hypothesis. Coefficients are significantly different between the two sub-samples.\n"
          ]
        }
      ]
    },
    {
      "cell_type": "markdown",
      "source": [
        "**Question 42**"
      ],
      "metadata": {
        "id": "FkeEjuzQ9ofk"
      }
    },
    {
      "cell_type": "code",
      "source": [
        "n = len(df)\n",
        "period_length = n // 3  # Calculate the length of each period\n",
        "\n",
        "# Divide the sample into three periods\n",
        "df_period1 = df[0:period_length].reset_index(drop=True)\n",
        "df_period2 = df[period_length:2 * period_length].reset_index(drop=True)\n",
        "df_period3 = df[2 * period_length:].reset_index(drop=True)\n",
        "\n",
        "# Define the specification (using 'unemployment' and 'inflation' as predictors)\n",
        "X_cols = ['unemployment', 'inflation']\n",
        "y_col = 'realGDP'\n",
        "\n",
        "# Convert columns to numeric, coerce errors to NaN\n",
        "for col in X_cols + [y_col]:\n",
        "    df_period2[col] = pd.to_numeric(df_period2[col], errors='coerce')\n",
        "    df_period3[col] = pd.to_numeric(df_period3[col], errors='coerce')\n",
        "\n",
        "# Add a constant to the independent variables\n",
        "X_period2 = sm.add_constant(df_period2[X_cols])\n",
        "X_period3 = sm.add_constant(df_period3[X_cols])\n",
        "\n",
        "# Define the dependent variable\n",
        "y_period2 = df_period2[y_col]\n",
        "y_period3 = df_period3[y_col]\n",
        "\n",
        "# Perform regressions for each period\n",
        "model_period2 = sm.OLS(y_period2, X_period2).fit()\n",
        "model_period3 = sm.OLS(y_period3, X_period3).fit()\n",
        "\n",
        "# Calculate the SSR for each period\n",
        "SSR_period2 = np.sum(model_period2.resid**2)\n",
        "SSR_period3 = np.sum(model_period3.resid**2)\n",
        "\n",
        "# Perform a pooled regression for periods 2 and 3\n",
        "df_pooled = pd.concat([df_period2, df_period3]).reset_index(drop=True)\n",
        "X_pooled = sm.add_constant(df_pooled[X_cols])\n",
        "y_pooled = df_pooled[y_col]\n",
        "model_pooled = sm.OLS(y_pooled, X_pooled).fit()\n",
        "SSR_pooled = np.sum(model_pooled.resid**2)\n",
        "\n",
        "# Calculate the F-statistic\n",
        "num_restrictions = len(model_period2.params) - 1  # Number of restrictions (coefficients)\n",
        "F_stat = ((SSR_pooled - (SSR_period2 + SSR_period3)) / num_restrictions) / \\\n",
        "         ((SSR_period2 + SSR_period3) / (len(df_pooled) - 2 * len(model_period2.params)))\n",
        "\n",
        "# Calculate the p-value of the F-statistic\n",
        "p_value = f.sf(F_stat, num_restrictions, len(df_pooled) - 2 * len(model_period2.params))\n",
        "\n",
        "# Print the results of the test\n",
        "print(f\"F-statistic: {F_stat}\")\n",
        "print(f\"p-value: {p_value}\")\n",
        "\n",
        "# Test the hypothesis\n",
        "alpha = 0.10  # Significance level of 10%\n",
        "\n",
        "if p_value < alpha:\n",
        "    print(\"We reject H0: The coefficients of the second and third periods are significantly different.\")\n",
        "else:\n",
        "    print(\"We fail to reject H0: The coefficients of the second and third periods are not significantly different.\")"
      ],
      "metadata": {
        "id": "rSuE6nUK37Ok",
        "outputId": "edc85aa5-fba4-4a06-f612-67b9840f1d1c",
        "colab": {
          "base_uri": "https://localhost:8080/"
        }
      },
      "execution_count": null,
      "outputs": [
        {
          "output_type": "stream",
          "name": "stdout",
          "text": [
            "F-statistic: 112.13396153141953\n",
            "p-value: 2.5362325609019973e-21\n",
            "We reject H0: The coefficients of the second and third periods are significantly different.\n"
          ]
        }
      ]
    }
  ],
  "metadata": {
    "kernelspec": {
      "display_name": "Python 3",
      "language": "python",
      "name": "python3"
    },
    "language_info": {
      "codemirror_mode": {
        "name": "ipython",
        "version": 3
      },
      "file_extension": ".py",
      "mimetype": "text/x-python",
      "name": "python",
      "nbconvert_exporter": "python",
      "pygments_lexer": "ipython3",
      "version": "3.9.6"
    },
    "colab": {
      "provenance": []
    }
  },
  "nbformat": 4,
  "nbformat_minor": 0
}